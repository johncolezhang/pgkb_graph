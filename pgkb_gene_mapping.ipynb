{
 "cells": [
  {
   "cell_type": "code",
   "execution_count": 1,
   "id": "0d65e9a3",
   "metadata": {},
   "outputs": [
    {
     "data": {
      "text/plain": [
       "'D:\\\\drug KG\\\\pgkb'"
      ]
     },
     "execution_count": 1,
     "metadata": {},
     "output_type": "execute_result"
    }
   ],
   "source": [
    "import pandas as pd\n",
    "import os\n",
    "import json\n",
    "from collections import defaultdict\n",
    "os.getcwd()"
   ]
  },
  {
   "cell_type": "code",
   "execution_count": 5,
   "id": "b5d9a97a",
   "metadata": {},
   "outputs": [],
   "source": [
    "df_gene = pd.read_csv(\"genes/genes.tsv\", sep='\\t', error_bad_lines=False).fillna(\"\")[[\"Symbol\", \"Chromosome\"]]\n",
    "gene_chromosome_dict = dict(zip(list(df_gene[\"Symbol\"].values), list(df_gene[\"Chromosome\"].values)))"
   ]
  },
  {
   "cell_type": "code",
   "execution_count": null,
   "id": "fd5b42dd",
   "metadata": {},
   "outputs": [],
   "source": []
  },
  {
   "cell_type": "code",
   "execution_count": null,
   "id": "0a1a39b3",
   "metadata": {},
   "outputs": [],
   "source": []
  }
 ],
 "metadata": {
  "kernelspec": {
   "display_name": "Python 3",
   "language": "python",
   "name": "python3"
  },
  "language_info": {
   "codemirror_mode": {
    "name": "ipython",
    "version": 3
   },
   "file_extension": ".py",
   "mimetype": "text/x-python",
   "name": "python",
   "nbconvert_exporter": "python",
   "pygments_lexer": "ipython3",
   "version": "3.6.13"
  }
 },
 "nbformat": 4,
 "nbformat_minor": 5
}
