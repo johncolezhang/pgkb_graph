{
 "cells": [
  {
   "cell_type": "code",
   "execution_count": 1,
   "id": "7e9aac4d",
   "metadata": {},
   "outputs": [
    {
     "data": {
      "text/plain": [
       "'D:\\\\drug KG\\\\pgkb'"
      ]
     },
     "execution_count": 1,
     "metadata": {},
     "output_type": "execute_result"
    }
   ],
   "source": [
    "import pandas as pd\n",
    "import os\n",
    "import json\n",
    "from collections import defaultdict\n",
    "os.getcwd()"
   ]
  },
  {
   "cell_type": "code",
   "execution_count": 3,
   "id": "21fbf2aa",
   "metadata": {},
   "outputs": [
    {
     "name": "stdout",
     "output_type": "stream",
     "text": [
      "CYP2B6 diplotype\\CYP2B6_Diplotype_Phenotype_Table.xlsx\n",
      "CYP2C19 diplotype\\CYP2C19_Diplotype_Phenotype_Table.xlsx\n",
      "CYP2C9 diplotype\\CYP2C9_Diplotype_Phenotype_Table.xlsx\n",
      "CYP2D6 diplotype\\CYP2D6_Diplotype_Phenotype_Table.xlsx\n",
      "CYP3A5 diplotype\\CYP3A5_Diplotype_Phenotype_Table.xlsx\n",
      "DPYD diplotype\\DPYD_Diplotype_Phenotype_Table.xlsx\n",
      "NUDT15 diplotype\\NUDT15_Diplotype_Phenotype_Table.xlsx\n",
      "SLCO1B1 diplotype\\SLCO1B1_Diplotype_Phenotype_Table.xlsx\n",
      "TPMT diplotype\\TPMT_Diplotype_Phenotype_Table.xlsx\n",
      "UGT1A1 diplotype\\UGT1A1_Diplotype_Phenotype_Table.xlsx\n"
     ]
    }
   ],
   "source": [
    "diplotype_folder = \"diplotype\"\n",
    "\n",
    "mentioned_genes = [\"CYP2B6\", \"CYP2C9\", \"CYP2C19\", \"CYP2D6\", \"CYP3A5\",\n",
    "                   \"DPYD\", \"NUDT15\", \"SLCO1B1\", \"TPMT\", \"UGT1A1\"]\n",
    "\n",
    "diplotype_path_dict = {g: \"\" for g in mentioned_genes}\n",
    "for path in os.listdir(diplotype_folder):\n",
    "    for gene in mentioned_genes:\n",
    "        if \"{}_Diplotype\".format(gene) in path:\n",
    "            diplotype_path_dict[gene] = os.path.join(diplotype_folder, path)\n",
    "for key,value in sorted(diplotype_path_dict.items(), key=lambda x: x[0]):\n",
    "    print(key, value)"
   ]
  },
  {
   "cell_type": "code",
   "execution_count": 10,
   "id": "8fdf8381",
   "metadata": {},
   "outputs": [
    {
     "name": "stdout",
     "output_type": "stream",
     "text": [
      "['Possible CYP2B6 Diplotype', '2B6 Interpretation Consult Note', 'CYP2B6 Implementation Workflow']\n",
      "  Coded Genotype/Phenotype Summarya EHR Priority Result Notationb  \\\n",
      "0     CYP2B6 Ultrarapid Metabolizer      Normal/Routine/Low Riskd   \n",
      "1          CYP2B6 Rapid Metabolizer      Normal/Routine/Low Riskd   \n",
      "\n",
      "  Consultation (Interpretation) Text Provided with Test Resultc  \n",
      "0  This result signifies that the patient has two...             \n",
      "1  This result signifies that the patient has one...             \n"
     ]
    }
   ],
   "source": [
    "xl = pd.ExcelFile('diplotype\\CYP2B6_Diplotype_Phenotype_Table.xlsx')\n",
    "print(xl.sheet_names)  # see all sheet names\n",
    "\n",
    "for sheet in xl.sheet_names:\n",
    "    if \"diplotype\" in sheet.lower():\n",
    "        ### read and handle diplotype\n",
    "        df_diplotype = pd.read_excel(xl, sheet_name=sheet)\n",
    "    elif \"consult note\" in sheet.lower():\n",
    "        ### read and handle consult note\n",
    "        df_consult = pd.read_excel(xl, sheet_name=sheet)"
   ]
  },
  {
   "cell_type": "code",
   "execution_count": null,
   "id": "d3276c75",
   "metadata": {},
   "outputs": [],
   "source": []
  },
  {
   "cell_type": "code",
   "execution_count": null,
   "id": "82e55bb0",
   "metadata": {},
   "outputs": [],
   "source": []
  },
  {
   "cell_type": "code",
   "execution_count": null,
   "id": "e6f6aad7",
   "metadata": {},
   "outputs": [],
   "source": []
  }
 ],
 "metadata": {
  "kernelspec": {
   "display_name": "Python 3",
   "language": "python",
   "name": "python3"
  },
  "language_info": {
   "codemirror_mode": {
    "name": "ipython",
    "version": 3
   },
   "file_extension": ".py",
   "mimetype": "text/x-python",
   "name": "python",
   "nbconvert_exporter": "python",
   "pygments_lexer": "ipython3",
   "version": "3.6.13"
  }
 },
 "nbformat": 4,
 "nbformat_minor": 5
}
