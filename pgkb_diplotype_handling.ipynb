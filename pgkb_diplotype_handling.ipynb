{
 "cells": [
  {
   "cell_type": "code",
   "execution_count": 1,
   "id": "7e9aac4d",
   "metadata": {},
   "outputs": [
    {
     "data": {
      "text/plain": [
       "'D:\\\\pgkb_graph'"
      ]
     },
     "execution_count": 1,
     "metadata": {},
     "output_type": "execute_result"
    }
   ],
   "source": [
    "import pandas as pd\n",
    "import os\n",
    "import json\n",
    "from collections import defaultdict\n",
    "os.getcwd()"
   ]
  },
  {
   "cell_type": "code",
   "execution_count": 2,
   "id": "21fbf2aa",
   "metadata": {},
   "outputs": [
    {
     "name": "stdout",
     "output_type": "stream",
     "text": [
      "CYP2B6 diplotype\\CYP2B6_Diplotype_Phenotype_Table.xlsx\n",
      "CYP2C19 diplotype\\CYP2C19_Diplotype_Phenotype_Table.xlsx\n",
      "CYP2C9 diplotype\\CYP2C9_Diplotype_Phenotype_Table.xlsx\n",
      "CYP2D6 diplotype\\CYP2D6_Diplotype_Phenotype_Table.xlsx\n",
      "CYP3A5 diplotype\\CYP3A5_Diplotype_Phenotype_Table.xlsx\n",
      "DPYD diplotype\\DPYD_Diplotype_Phenotype_Table.xlsx\n",
      "NUDT15 diplotype\\NUDT15_Diplotype_Phenotype_Table.xlsx\n",
      "SLCO1B1 diplotype\\SLCO1B1_Diplotype_Phenotype_Table.xlsx\n",
      "TPMT diplotype\\TPMT_Diplotype_Phenotype_Table.xlsx\n",
      "UGT1A1 diplotype\\UGT1A1_Diplotype_Phenotype_Table.xlsx\n"
     ]
    }
   ],
   "source": [
    "diplotype_folder = \"diplotype\"\n",
    "\n",
    "mentioned_genes = [\"CYP2B6\", \"CYP2C9\", \"CYP2C19\", \"CYP2D6\", \"CYP3A5\",\n",
    "                   \"DPYD\", \"NUDT15\", \"SLCO1B1\", \"TPMT\", \"UGT1A1\"]\n",
    "\n",
    "diplotype_path_dict = {g: \"\" for g in mentioned_genes}\n",
    "for path in os.listdir(diplotype_folder):\n",
    "    for gene in mentioned_genes:\n",
    "        if \"{}_Diplotype\".format(gene) in path:\n",
    "            diplotype_path_dict[gene] = os.path.join(diplotype_folder, path)\n",
    "for key,value in sorted(diplotype_path_dict.items(), key=lambda x: x[0]):\n",
    "    print(key, value)"
   ]
  },
  {
   "cell_type": "code",
   "execution_count": 12,
   "id": "8fdf8381",
   "metadata": {},
   "outputs": [
    {
     "name": "stdout",
     "output_type": "stream",
     "text": [
      "['Possible CYP2B6 Diplotype', '2B6 Interpretation Consult Note', 'CYP2B6 Implementation Workflow']\n"
     ]
    }
   ],
   "source": [
    "xl = pd.ExcelFile('diplotype\\CYP2B6_Diplotype_Phenotype_Table.xlsx')\n",
    "print(xl.sheet_names)  # see all sheet names\n",
    "\n",
    "for sheet in xl.sheet_names:\n",
    "    if \"diplotype\" in sheet.lower():\n",
    "        ### read and handle diplotype\n",
    "        df_diplotype = pd.read_excel(xl, sheet_name=sheet).fillna(\"\")\n",
    "        diplotype_column = \"\"\n",
    "        phenotype_column = \"\"\n",
    "        ehr_notation_column = \"\"\n",
    "        score_column = \"\"\n",
    "        variant_1_column = \"\"\n",
    "        variant_2_column = \"\"\n",
    "        \n",
    "        for column in df_diplotype.columns:\n",
    "            if \"diplotype\" in column.lower():\n",
    "                diplotype_column = column\n",
    "            elif \"phenotype\" in column.lower() or \"metabolizer\" in column.lower():\n",
    "                phenotype_column = column\n",
    "            elif \"notation\" in column.lower():\n",
    "                ehr_notation_column = column\n",
    "            elif \"score\" in column.lower():\n",
    "                score_column = column\n",
    "            elif \"variant\" in column.lower() and \"1\" in column:\n",
    "                variant_1_column = column\n",
    "            elif \"variant\" in column.lower() and \"2\" in column:\n",
    "                variant_2_column = column\n",
    "        \n",
    "        diplotype_dict = {}\n",
    "        for index, row in df_diplotype.iterrows():\n",
    "            if diplotype_column != \"\":\n",
    "                diplotype = row[diplotype_column]\n",
    "            elif variant_1_column != \"\" and variant_2_column != \"\":\n",
    "                diplotype = \"{}/{}\".format(row[variant_1_column], row[variant_2_column])\n",
    "            else:\n",
    "                continue\n",
    "                \n",
    "            diplotype_dict[diplotype] = {\n",
    "                \"phenotype\": row[phenotype_column] if phenotype_column != \"\" else \"\",\n",
    "                \"ehr_notation\": row[ehr_notation_column] if ehr_notation_column != \"\" else \"\",\n",
    "                \"score\": row[score_column] if score_column != \"\" else \"\"\n",
    "            }\n",
    "        \n",
    "            \n",
    "    elif \"consult note\" in sheet.lower():\n",
    "        ### read and handle consult note\n",
    "        df_consult = pd.read_excel(xl, sheet_name=sheet).fillna(\"\")\n",
    "        phenotype_column = \"\"\n",
    "        ehr_notation_column = \"\"\n",
    "        consultation_column = \"\"\n",
    "        score_column = \"\"\n",
    "        for column in df_consult.columns:\n",
    "            if \"phenotype\" in column.lower() or \"metabolizer\" in column.lower():\n",
    "                phenotype_column = column\n",
    "            elif \"notation\" in column.lower():\n",
    "                ehr_notation_column = column\n",
    "            elif \"consultation\" in column.lower():\n",
    "                consultation_column = column\n",
    "            elif \"score\" in column.lower():\n",
    "                score_column = column\n",
    "                \n",
    "        phenotype_dict = {}\n",
    "        for index, row in df_consult.iterrows():\n",
    "            phenotype = row[phenotype_column]\n",
    "            phenotype_dict[phenotype] = {\n",
    "                \"ehr_notation\": row[ehr_notation_column] if ehr_notation_column != \"\" else \"\",\n",
    "                \"consultation\": row[consultation_column] if consultation_column != \"\" else  \"\",\n",
    "                \"score\": row[score_column] if score_column != \"\" else \"\"\n",
    "            }\n",
    "            "
   ]
  },
  {
   "cell_type": "code",
   "execution_count": 14,
   "id": "d3276c75",
   "metadata": {},
   "outputs": [
    {
     "data": {
      "text/plain": [
       "{'CYP2B6 Normal Metabolizer ': {'phenotype': '',\n",
       "  'ehr_notation': 'Normal/Routine/Low Risk',\n",
       "  'score': ''},\n",
       " 'Indeterminate': {'phenotype': '', 'ehr_notation': 'None', 'score': ''},\n",
       " 'CYP2B6 Rapid Metabolizer': {'phenotype': '',\n",
       "  'ehr_notation': 'Normal/Routine/Low Riskc',\n",
       "  'score': ''},\n",
       " 'CYP2B6 Intermediate Metabolizer': {'phenotype': '',\n",
       "  'ehr_notation': 'Abnormal/Priority/High Risk',\n",
       "  'score': ''},\n",
       " 'CYP2B6 Ultrarapid Metabolizer': {'phenotype': '',\n",
       "  'ehr_notation': 'Normal/Routine/Low Riskc',\n",
       "  'score': ''},\n",
       " 'CYP2B6 Poor Metabolizer': {'phenotype': '',\n",
       "  'ehr_notation': 'Abnormal/Priority/High Risk',\n",
       "  'score': ''},\n",
       " '': {'phenotype': '', 'ehr_notation': '', 'score': ''}}"
      ]
     },
     "execution_count": 14,
     "metadata": {},
     "output_type": "execute_result"
    }
   ],
   "source": [
    "diplotype_dict"
   ]
  },
  {
   "cell_type": "code",
   "execution_count": null,
   "id": "82e55bb0",
   "metadata": {},
   "outputs": [],
   "source": []
  },
  {
   "cell_type": "code",
   "execution_count": null,
   "id": "e6f6aad7",
   "metadata": {},
   "outputs": [],
   "source": []
  }
 ],
 "metadata": {
  "kernelspec": {
   "display_name": "Python 3",
   "language": "python",
   "name": "python3"
  },
  "language_info": {
   "codemirror_mode": {
    "name": "ipython",
    "version": 3
   },
   "file_extension": ".py",
   "mimetype": "text/x-python",
   "name": "python",
   "nbconvert_exporter": "python",
   "pygments_lexer": "ipython3",
   "version": "3.6.13"
  }
 },
 "nbformat": 4,
 "nbformat_minor": 5
}
