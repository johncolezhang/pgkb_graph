{
 "cells": [
  {
   "cell_type": "code",
   "execution_count": 96,
   "id": "278676e6",
   "metadata": {},
   "outputs": [
    {
     "data": {
      "text/plain": [
       "'D:\\\\pgkb_graph'"
      ]
     },
     "execution_count": 96,
     "metadata": {},
     "output_type": "execute_result"
    }
   ],
   "source": [
    "from py2neo import Graph \n",
    "import pandas as pd\n",
    "import re\n",
    "import os\n",
    "os.getcwd()"
   ]
  },
  {
   "cell_type": "code",
   "execution_count": 3,
   "id": "0f93652d",
   "metadata": {},
   "outputs": [],
   "source": [
    "session = Graph(\"neo4j://172.16.229.46:7687\", auth=(\"neo4j\", \"123456\"))"
   ]
  },
  {
   "cell_type": "code",
   "execution_count": 78,
   "id": "78472a16",
   "metadata": {},
   "outputs": [],
   "source": [
    "haplotype_guideline_cypher = \"\"\"\n",
    "MATCH (hap:haplotype)-[r:variant_guideline]->(che:chemical) \n",
    "WITH hap, r, che\n",
    "MATCH (hap)-[]->(ge:gene)\n",
    "RETURN ge.gene_name as gene_name, hap.variant_name as haplotype_name, hap.is_reference as is_reference,\n",
    "hap.NC_change_code as NC_code, hap.NG_change_code as NG_code, hap.nucleotide_change_code as nucleotide_code, \n",
    "hap.protein_change_code as protein_code, hap.mapped_rsID as mapped_rsID, \n",
    "r.phenotype as phenotype, r.implication as implication, r.recommendation as recommendation,\n",
    "r.organization as organization, r.link as link, \n",
    "che.chemical_name as chemical_name, che.atc_code as atc_code, che.L1_info as L1_info,\n",
    "che.L2_info as L2_info, che.L3_info as L3_info, che.L4_info as L4_info\n",
    "\"\"\"\n",
    "\n",
    "result_list = session.run(haplotype_guideline_cypher).data()\n",
    "df_haplotype_guideline = pd.DataFrame(result_list)"
   ]
  },
  {
   "cell_type": "code",
   "execution_count": 75,
   "id": "b6451a66",
   "metadata": {
    "scrolled": true
   },
   "outputs": [],
   "source": [
    "diplotype_guideline_cypher = \"\"\"\n",
    "MATCH (dip:diplotype)-[r:variant_guideline]->(che:chemical) \n",
    "WITH dip, r, che\n",
    "MATCH (dip)-[:diplotype_consist_of]->(hap:haplotype)-[:mutation_at]->(ge:gene)\n",
    "RETURN distinct ge.gene_name as gene_name,\n",
    "dip.diplotype_name as diplotype_name, r.phenotype as phenotype, \n",
    "hap.variant_name as haplotype_name, hap.is_reference as is_reference, hap.NC_change_code as NC_code, hap.NG_change_code as NG_code, \n",
    "hap.nucleotide_change_code as nucleotide_code, hap.protein_change_code as protein_code, hap.mapped_rsID as mapped_rsID,\n",
    "r.implication as implication, r.recommendation as recommendation, r.organization as organization, r.link as link, \n",
    "che.chemical_name as chemical_name, che.atc_code as atc_code, che.L1_info as L1_info, \n",
    "che.L2_info as L2_info, che.L3_info as L3_info, che.L4_info as L4_info\n",
    "\"\"\"\n",
    "\n",
    "result_list = session.run(diplotype_guideline_cypher).data()\n",
    "df_diplotype_guideline = pd.DataFrame(result_list)"
   ]
  },
  {
   "cell_type": "code",
   "execution_count": 17,
   "id": "26a644cf",
   "metadata": {},
   "outputs": [],
   "source": [
    "diplotype_metabolizer_cypher = \"\"\"\n",
    "MATCH (dip:diplotype)-[r:diplotype_metabolizer]->(che:chemical) \n",
    "WITH dip, r, che\n",
    "MATCH (dip)-[:diplotype_consist_of]->(hap:haplotype)-[:mutation_at]->(ge:gene)\n",
    "RETURN distinct ge.gene_name as gene_name,\n",
    "dip.diplotype_name as diplotype_name, r.phenotype as phenotype, r.phenotype_category as metabolizer,\n",
    "hap.variant_name as haplotype_name, hap.is_reference as is_reference, hap.NC_change_code as NC_code, \n",
    "hap.NG_change_code as NG_code, hap.nucleotide_change_code as nucleotide_code, \n",
    "hap.protein_change_code as protein_code, hap.mapped_rsID as mapped_rsID,\n",
    "r.implication as implication, r.recommendation as recommendation, \n",
    "r.organization as organization, r.link as link, \n",
    "che.chemical_name as chemical_name, che.atc_code as atc_code, che.L1_info as L1_info, \n",
    "che.L2_info as L2_info, che.L3_info as L3_info, che.L4_info as L4_info\n",
    "\"\"\"\n",
    "result_list = session.run(diplotype_metabolizer_cypher).data()\n",
    "df_diplotype_metabolizer = pd.DataFrame(result_list)"
   ]
  },
  {
   "cell_type": "code",
   "execution_count": 101,
   "id": "51161f9a",
   "metadata": {},
   "outputs": [],
   "source": [
    "def get_position(nc_code):\n",
    "    find_list = re.findall(r\"chromosome [\\d]+\", nc_code)\n",
    "    if len(find_list) > 0:\n",
    "        chr_name = find_list[0].replace(\"chromosome \", \"chr\")\n",
    "        position_list = [\n",
    "            \"{}:{}\".format(\n",
    "                chr_name,\n",
    "                \"\".join([\"{}:{}\".format(x.strip().replace(\"g.\", \"\").replace(y, \"\"), y) \n",
    "                         for y in re.findall(r\"[\\D]+\", x.strip().replace(\"g.\", \"\"))]) if \"del\" not in x else x.strip().replace(\"g.\", \"\")\n",
    "                ) \n",
    "            for x in nc_code.split(\";\")[1].strip().replace(\"[\", \"\").replace(\"]\", \"\"). replace(\"'\", \"\").split(\",\")\n",
    "        ]\n",
    "        return \", \".join(position_list)\n",
    "        \n",
    "    else:\n",
    "        return \"\"\n",
    "    \n",
    "df_diplotype_metabolizer = df_diplotype_metabolizer.assign(\n",
    "    position=[get_position(x) for x in list(df_diplotype_metabolizer[\"NC_code\"].values)])\n",
    "\n",
    "df_diplotype_guideline = df_diplotype_guideline.assign(\n",
    "    position=[get_position(x) for x in list(df_diplotype_guideline[\"NC_code\"].values)])\n",
    "\n",
    "df_haplotype_guideline = df_haplotype_guideline.assign(\n",
    "    position=[get_position(x) for x in list(df_haplotype_guideline[\"NC_code\"].values)])\n",
    "\n",
    "df_diplotype_guideline.to_csv(\"query_file/guideline_diplotype.csv\", index=False)\n",
    "df_haplotype_guideline.to_csv(\"query_file/guideline_haplotype.csv\", index=False)\n",
    "df_diplotype_metabolizer.to_csv(\"query_file/guideline_metabolizer.csv\", index=False)"
   ]
  },
  {
   "cell_type": "code",
   "execution_count": 103,
   "id": "a45ae4ab",
   "metadata": {
    "scrolled": true
   },
   "outputs": [],
   "source": [
    "group_list = []\n",
    "for key, content in df_diplotype_metabolizer.groupby([\"gene_name\", \"metabolizer\", \"organization\", \"chemical_name\"]):\n",
    "    content_dict = {\n",
    "        \"gene_name\": key[0],\n",
    "        \"metabolizer\": key[1],\n",
    "        \"organization\": key[2],\n",
    "        \"chemical_name\": key[3],\n",
    "        \"diplotype\": list(set(content[\"diplotype_name\"].values)),\n",
    "        \"haplotype\": list(set(content[\"haplotype_name\"].values)),\n",
    "        \"nc_code\": list(set(content[\"NC_code\"].values)),\n",
    "        \"ng_code\": list(set(content[\"NG_code\"].values)),\n",
    "        \"nucleotide_code\": list(set(content[\"nucleotide_code\"].values)),\n",
    "        \"protein_code\": list(set(content[\"protein_code\"].values)),\n",
    "        \"recommendation\": list(set(content[\"recommendation\"].values))[0],\n",
    "        \"implication\": list(set(content[\"implication\"].values))[0],\n",
    "        \"phenotype\": list(set(content[\"phenotype\"].values))[0],\n",
    "        \"link\": list(set(content[\"link\"].values))[0],\n",
    "        \"atc_code\": list(set(content[\"atc_code\"].values))[0],\n",
    "        \"L1_info\": list(set(content[\"L1_info\"].values))[0],\n",
    "        \"L2_info\": list(set(content[\"L2_info\"].values))[0],\n",
    "        \"L3_info\": list(set(content[\"L3_info\"].values))[0],\n",
    "        \"L4_info\": list(set(content[\"L4_info\"].values))[0],\n",
    "        \"position\": list(set([x.strip() for x in \",\".join(list(set(content[\"position\"].values))).split(\",\")])),\n",
    "        \"rsID\": list(set([x.strip() for x in \",\".join(list(set(content[\"mapped_rsID\"].values))).split(\",\")]))\n",
    "    }\n",
    "    group_list.append(content_dict)\n",
    "    \n",
    "pd.DataFrame(group_list).to_csv(\"query_file/guideline_metabolizer_group.csv\", index=False)"
   ]
  },
  {
   "cell_type": "code",
   "execution_count": 104,
   "id": "c9de7868",
   "metadata": {},
   "outputs": [],
   "source": [
    "group_list = []\n",
    "for key, content in df_diplotype_guideline.groupby([\"gene_name\", \"organization\", \"chemical_name\", \"diplotype_name\"]):\n",
    "    content_dict = {\n",
    "        \"gene_name\": key[0],\n",
    "        \"metabolizer\": \"\",\n",
    "        \"organization\": key[1],\n",
    "        \"chemical_name\": key[2],\n",
    "        \"diplotype\": key[3],\n",
    "        \"haplotype\": list(set(content[\"haplotype_name\"].values)),\n",
    "        \"nc_code\": list(set(content[\"NC_code\"].values)),\n",
    "        \"ng_code\": list(set(content[\"NG_code\"].values)),\n",
    "        \"nucleotide_code\": list(set(content[\"nucleotide_code\"].values)),\n",
    "        \"protein_code\": list(set(content[\"protein_code\"].values)),\n",
    "        \"recommendation\": list(set(content[\"recommendation\"].values))[0],\n",
    "        \"implication\": list(set(content[\"implication\"].values))[0],\n",
    "        \"phenotype\": list(set(content[\"phenotype\"].values))[0],\n",
    "        \"link\": list(set(content[\"link\"].values))[0],\n",
    "        \"atc_code\": list(set(content[\"atc_code\"].values))[0],\n",
    "        \"L1_info\": list(set(content[\"L1_info\"].values))[0],\n",
    "        \"L2_info\": list(set(content[\"L2_info\"].values))[0],\n",
    "        \"L3_info\": list(set(content[\"L3_info\"].values))[0],\n",
    "        \"L4_info\": list(set(content[\"L4_info\"].values))[0],\n",
    "        \"position\": list(set([x.strip() for x in \",\".join(list(set(content[\"position\"].values))).split(\",\")])),\n",
    "        \"rsID\": list(set([x.strip() for x in \",\".join(list(set(content[\"mapped_rsID\"].values))).split(\",\")]))\n",
    "    }\n",
    "    group_list.append(content_dict)\n",
    "    \n",
    "pd.DataFrame(group_list).to_csv(\"query_file/guideline_diplotype_group.csv\", index=False)"
   ]
  },
  {
   "cell_type": "code",
   "execution_count": 105,
   "id": "ac44ef9a",
   "metadata": {
    "scrolled": true
   },
   "outputs": [],
   "source": [
    "group_list = []\n",
    "for key, content in df_haplotype_guideline.groupby([\"gene_name\", \"organization\", \"chemical_name\", \"haplotype_name\"]):\n",
    "    content_dict = {\n",
    "        \"gene_name\": key[0],\n",
    "        \"metabolizer\": \"\",\n",
    "        \"organization\": key[1],\n",
    "        \"chemical_name\": key[2],\n",
    "        \"diplotype\": \"\",\n",
    "        \"haplotype\": key[3],\n",
    "        \"nc_code\": list(set(content[\"NC_code\"].values)),\n",
    "        \"ng_code\": list(set(content[\"NG_code\"].values)),\n",
    "        \"nucleotide_code\": list(set(content[\"nucleotide_code\"].values)),\n",
    "        \"protein_code\": list(set(content[\"protein_code\"].values)),\n",
    "        \"recommendation\": list(set(content[\"recommendation\"].values))[0],\n",
    "        \"implication\": list(set(content[\"implication\"].values))[0],\n",
    "        \"phenotype\": list(set(content[\"phenotype\"].values))[0],\n",
    "        \"link\": list(set(content[\"link\"].values))[0],\n",
    "        \"atc_code\": list(set(content[\"atc_code\"].values))[0],\n",
    "        \"L1_info\": list(set(content[\"L1_info\"].values))[0],\n",
    "        \"L2_info\": list(set(content[\"L2_info\"].values))[0],\n",
    "        \"L3_info\": list(set(content[\"L3_info\"].values))[0],\n",
    "        \"L4_info\": list(set(content[\"L4_info\"].values))[0],\n",
    "        \"position\": list(set([x.strip() for x in \",\".join(list(set(content[\"position\"].values))).split(\",\")])),\n",
    "        \"rsID\": list(set([x.strip() for x in \",\".join(list(set(content[\"mapped_rsID\"].values))).split(\",\")]))\n",
    "    }\n",
    "    group_list.append(content_dict)\n",
    "    \n",
    "pd.DataFrame(group_list).to_csv(\"query_file/guideline_haplotype_group.csv\", index=False)"
   ]
  },
  {
   "cell_type": "code",
   "execution_count": null,
   "id": "c2cf675d",
   "metadata": {},
   "outputs": [],
   "source": []
  },
  {
   "cell_type": "code",
   "execution_count": 115,
   "id": "4b2473c8",
   "metadata": {},
   "outputs": [],
   "source": [
    "cpic_drug_label_cypher = \"\"\"\n",
    "MATCH (ge:gene)-[r:cpic_guideline]->(che:chemical) \n",
    "RETURN ge.gene_name as gene_name, ge.OMIM as OMIM, ge.chromosome as chromosome, ge.refseq as refseq,\n",
    "ge.chromosomal_start_GRCh38 as chromosomal_start, ge.chromosomal_stop_GRCh38 as chromosomal_stop, ge.is_VIP as is_VIP,\n",
    "r.CPIC_level_status as CPIC_level_status, r.CPIC_level as CPIC_level, r.FDA_PGx_label as FDA_PGx_label,\n",
    "r.PGKB_evidence_level as PGKB_evidence_level, r.guideline_link as link,\n",
    "che.chemical_name as chemical_name, che.atc_code as atc_code, che.L1_info as L1_info, \n",
    "che.L2_info as L2_info, che.L3_info as L3_info, che.L4_info as L4_info, \"CPIC\" as organization\n",
    "\"\"\"\n",
    "\n",
    "result_list = session.run(cpic_drug_label_cypher).data()\n",
    "df_cpic_drug_label = pd.DataFrame(result_list).fillna(\"\")"
   ]
  },
  {
   "cell_type": "code",
   "execution_count": 117,
   "id": "cd45b856",
   "metadata": {},
   "outputs": [],
   "source": [
    "pgkb_drug_label_cypher = \"\"\"\n",
    "MATCH (ge:gene)-[r:drug_label]->(che:chemical) \n",
    "RETURN ge.gene_name as gene_name, ge.OMIM as OMIM, ge.chromosome as chromosome, ge.refseq as refseq,\n",
    "ge.chromosomal_start_GRCh38 as chromosomal_start, ge.chromosomal_stop_GRCh38 as chromosomal_stop, ge.is_VIP as is_VIP,\n",
    "r.link as link, r.label_name as label_name, r.testing_level as testing_level,\n",
    "che.chemical_name as chemical_name, che.atc_code as atc_code, che.L1_info as L1_info, \n",
    "che.L2_info as L2_info, che.L3_info as L3_info, che.L4_info as L4_info, r.organization as organization\n",
    "\"\"\"\n",
    "\n",
    "result_list = session.run(pgkb_drug_label_cypher).data()\n",
    "df_pgkb_drug_label = pd.DataFrame(result_list).fillna(\"\")"
   ]
  },
  {
   "cell_type": "code",
   "execution_count": 119,
   "id": "3cd2ed6c",
   "metadata": {},
   "outputs": [],
   "source": [
    "df_pgkb_drug_label.to_csv(\"query_file/pgkb_drug_label.csv\", index=False)\n",
    "df_cpic_drug_label.to_csv(\"query_file/cpic_drug_label.csv\", index=False)"
   ]
  },
  {
   "cell_type": "code",
   "execution_count": 132,
   "id": "8d56e6c4",
   "metadata": {},
   "outputs": [],
   "source": [
    "variant_clinical_cypher = \"\"\"\n",
    "MATCH (var:variant)-[r:clinical_annotation]->(che:chemical)\n",
    "WITH var, r, che\n",
    "MATCH (var)-[:mutation_at]->(ge:gene)\n",
    "return ge.gene_name as gene_name, ge.chromosome as chromosome,\n",
    "var.variant_name as variant_name, var.is_reference as is_reference,\n",
    "var.NC_change_code as NC_code, var.NG_change_code as NG_code, \n",
    "var.nucleotide_change_code as nucleotide_code, \n",
    "var.protein_change_code as protein_code, var.mapped_rsID as mapped_rsID, \n",
    "r.phenotype_category as phenotype_category, r.evidence_level as evidence_level, \n",
    "r.level_modifier as level_modifier, r.phenotype as phenotype, r.score as score, r.link as link,\n",
    "che.chemical_name as chemical_name, che.atc_code as atc_code, che.L1_info as L1_info,\n",
    "che.L2_info as L2_info, che.L3_info as L3_info, che.L4_info as L4_info\n",
    "\"\"\"\n",
    "\n",
    "result_list = session.run(variant_clinical_cypher).data()\n",
    "df_variant_clinical = pd.DataFrame(result_list).fillna(\"\")"
   ]
  },
  {
   "cell_type": "code",
   "execution_count": 133,
   "id": "474580b9",
   "metadata": {
    "scrolled": true
   },
   "outputs": [],
   "source": [
    "group_list = []\n",
    "for key, content in df_variant_clinical.groupby([\"variant_name\", \"phenotype_category\", \"chemical_name\"]):\n",
    "    content_dict = {\n",
    "        \"gene_name\": list(set(content[\"gene_name\"].values))[0],\n",
    "        \"chromosome\": list(set(content[\"chromosome\"].values))[0],\n",
    "        \"variant_name\": key[0],\n",
    "        \"phenotype_category\": key[1],\n",
    "        \"chemical_name\": key[2],\n",
    "        \"nc_code\": list(set(content[\"NC_code\"].values)),\n",
    "        \"ng_code\": list(set(content[\"NG_code\"].values)),\n",
    "        \"nucleotide_code\": list(set(content[\"nucleotide_code\"].values)),\n",
    "        \"protein_code\": list(set(content[\"protein_code\"].values)),\n",
    "        \"evidence_level\": list(set(content[\"evidence_level\"].values))[0],\n",
    "        \"level_modifier\": list(set(content[\"level_modifier\"].values))[0],\n",
    "        \"phenotype\": list(set(content[\"phenotype\"].values)),\n",
    "        \"link\": list(set(content[\"link\"].values))[0],\n",
    "        \"atc_code\": list(set(content[\"atc_code\"].values))[0],\n",
    "        \"L1_info\": list(set(content[\"L1_info\"].values))[0],\n",
    "        \"L2_info\": list(set(content[\"L2_info\"].values))[0],\n",
    "        \"L3_info\": list(set(content[\"L3_info\"].values))[0],\n",
    "        \"L4_info\": list(set(content[\"L4_info\"].values))[0],\n",
    "        \"rsID\": list(set([x.strip() for x in \",\".join(list(set(content[\"mapped_rsID\"].values))).split(\",\")]))\n",
    "    }\n",
    "    group_list.append(content_dict)\n",
    "df_variant_clinical = pd.DataFrame(group_list)\n",
    "df_variant_clinical = df_variant_clinical.sort_values(by=[\"evidence_level\"])\n",
    "df_variant_clinical.index = range(len(df_variant_clinical))\n",
    "df_variant_clinical.to_csv(\"query_file/variant_clinical.csv\", index=False)"
   ]
  },
  {
   "cell_type": "code",
   "execution_count": null,
   "id": "dd74d47e",
   "metadata": {},
   "outputs": [],
   "source": []
  }
 ],
 "metadata": {
  "kernelspec": {
   "display_name": "Python 3",
   "language": "python",
   "name": "python3"
  },
  "language_info": {
   "codemirror_mode": {
    "name": "ipython",
    "version": 3
   },
   "file_extension": ".py",
   "mimetype": "text/x-python",
   "name": "python",
   "nbconvert_exporter": "python",
   "pygments_lexer": "ipython3",
   "version": "3.6.13"
  }
 },
 "nbformat": 4,
 "nbformat_minor": 5
}
