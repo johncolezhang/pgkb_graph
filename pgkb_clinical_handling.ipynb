{
 "cells": [
  {
   "cell_type": "markdown",
   "id": "840fdabd",
   "metadata": {},
   "source": [
    "## 生成临床clinical annotation的关系数据"
   ]
  },
  {
   "cell_type": "code",
   "execution_count": 2,
   "id": "ca8605cc",
   "metadata": {},
   "outputs": [
    {
     "data": {
      "text/plain": [
       "'D:\\\\drug KG\\\\pgkb'"
      ]
     },
     "execution_count": 2,
     "metadata": {},
     "output_type": "execute_result"
    }
   ],
   "source": [
    "import pandas as pd\n",
    "import os\n",
    "import json\n",
    "import re\n",
    "os.getcwd()"
   ]
  },
  {
   "cell_type": "code",
   "execution_count": 3,
   "id": "6633ce0e",
   "metadata": {},
   "outputs": [
    {
     "name": "stdout",
     "output_type": "stream",
     "text": [
      "(265, 15)\n"
     ]
    },
    {
     "data": {
      "text/html": [
       "<div>\n",
       "<style scoped>\n",
       "    .dataframe tbody tr th:only-of-type {\n",
       "        vertical-align: middle;\n",
       "    }\n",
       "\n",
       "    .dataframe tbody tr th {\n",
       "        vertical-align: top;\n",
       "    }\n",
       "\n",
       "    .dataframe thead th {\n",
       "        text-align: right;\n",
       "    }\n",
       "</style>\n",
       "<table border=\"1\" class=\"dataframe\">\n",
       "  <thead>\n",
       "    <tr style=\"text-align: right;\">\n",
       "      <th></th>\n",
       "      <th>Clinical Annotation ID</th>\n",
       "      <th>Variant/Haplotypes</th>\n",
       "      <th>Gene</th>\n",
       "      <th>Level of Evidence</th>\n",
       "      <th>Level Override</th>\n",
       "      <th>Level Modifiers</th>\n",
       "      <th>Score</th>\n",
       "      <th>Phenotype Category</th>\n",
       "      <th>PMID Count</th>\n",
       "      <th>Evidence Count</th>\n",
       "      <th>Drug(s)</th>\n",
       "      <th>Phenotype(s)</th>\n",
       "      <th>Latest History Date (YYYY-MM-DD)</th>\n",
       "      <th>URL</th>\n",
       "      <th>Specialty Population</th>\n",
       "    </tr>\n",
       "  </thead>\n",
       "  <tbody>\n",
       "    <tr>\n",
       "      <th>0</th>\n",
       "      <td>981755803</td>\n",
       "      <td>rs75527207</td>\n",
       "      <td>CFTR</td>\n",
       "      <td>1A</td>\n",
       "      <td></td>\n",
       "      <td>Rare Variant; Tier 1 VIP</td>\n",
       "      <td>234.875</td>\n",
       "      <td>Efficacy</td>\n",
       "      <td>28</td>\n",
       "      <td>30</td>\n",
       "      <td>ivacaftor</td>\n",
       "      <td>Cystic Fibrosis</td>\n",
       "      <td>2021-03-24</td>\n",
       "      <td>https://www.pharmgkb.org/clinicalAnnotation/98...</td>\n",
       "      <td>Pediatric</td>\n",
       "    </tr>\n",
       "    <tr>\n",
       "      <th>1</th>\n",
       "      <td>1449191690</td>\n",
       "      <td>rs141033578</td>\n",
       "      <td>CFTR</td>\n",
       "      <td>1A</td>\n",
       "      <td></td>\n",
       "      <td>Rare Variant; Tier 1 VIP</td>\n",
       "      <td>200</td>\n",
       "      <td>Efficacy</td>\n",
       "      <td>1</td>\n",
       "      <td>3</td>\n",
       "      <td>ivacaftor</td>\n",
       "      <td>Cystic Fibrosis</td>\n",
       "      <td>2021-03-24</td>\n",
       "      <td>https://www.pharmgkb.org/clinicalAnnotation/14...</td>\n",
       "      <td></td>\n",
       "    </tr>\n",
       "    <tr>\n",
       "      <th>2</th>\n",
       "      <td>1449191746</td>\n",
       "      <td>rs78769542</td>\n",
       "      <td>CFTR</td>\n",
       "      <td>1A</td>\n",
       "      <td></td>\n",
       "      <td>Rare Variant; Tier 1 VIP</td>\n",
       "      <td>200</td>\n",
       "      <td>Efficacy</td>\n",
       "      <td>1</td>\n",
       "      <td>3</td>\n",
       "      <td>ivacaftor</td>\n",
       "      <td>Cystic Fibrosis</td>\n",
       "      <td>2021-03-24</td>\n",
       "      <td>https://www.pharmgkb.org/clinicalAnnotation/14...</td>\n",
       "      <td></td>\n",
       "    </tr>\n",
       "    <tr>\n",
       "      <th>3</th>\n",
       "      <td>981419266</td>\n",
       "      <td>HLA-B*15:02:01</td>\n",
       "      <td>HLA-B</td>\n",
       "      <td>1A</td>\n",
       "      <td></td>\n",
       "      <td>Tier 1 VIP</td>\n",
       "      <td>217.25</td>\n",
       "      <td>Toxicity</td>\n",
       "      <td>17</td>\n",
       "      <td>21</td>\n",
       "      <td>phenytoin</td>\n",
       "      <td>drug reaction with eosinophilia and systemic s...</td>\n",
       "      <td>2021-03-24</td>\n",
       "      <td>https://www.pharmgkb.org/clinicalAnnotation/98...</td>\n",
       "      <td>Pediatric</td>\n",
       "    </tr>\n",
       "    <tr>\n",
       "      <th>4</th>\n",
       "      <td>1451259580</td>\n",
       "      <td>CYP2D6*1, CYP2D6*1xN, CYP2D6*2, CYP2D6*3, CYP2...</td>\n",
       "      <td>CYP2D6</td>\n",
       "      <td>1A</td>\n",
       "      <td></td>\n",
       "      <td>Tier 1 VIP</td>\n",
       "      <td>211.375</td>\n",
       "      <td>Toxicity</td>\n",
       "      <td>6</td>\n",
       "      <td>9</td>\n",
       "      <td>amitriptyline</td>\n",
       "      <td>Depressive Disorder</td>\n",
       "      <td>2021-04-23</td>\n",
       "      <td>https://www.pharmgkb.org/clinicalAnnotation/14...</td>\n",
       "      <td></td>\n",
       "    </tr>\n",
       "  </tbody>\n",
       "</table>\n",
       "</div>"
      ],
      "text/plain": [
       "   Clinical Annotation ID                                 Variant/Haplotypes  \\\n",
       "0               981755803                                         rs75527207   \n",
       "1              1449191690                                        rs141033578   \n",
       "2              1449191746                                         rs78769542   \n",
       "3               981419266                                     HLA-B*15:02:01   \n",
       "4              1451259580  CYP2D6*1, CYP2D6*1xN, CYP2D6*2, CYP2D6*3, CYP2...   \n",
       "\n",
       "     Gene Level of Evidence Level Override           Level Modifiers    Score  \\\n",
       "0    CFTR                1A                 Rare Variant; Tier 1 VIP  234.875   \n",
       "1    CFTR                1A                 Rare Variant; Tier 1 VIP      200   \n",
       "2    CFTR                1A                 Rare Variant; Tier 1 VIP      200   \n",
       "3   HLA-B                1A                               Tier 1 VIP   217.25   \n",
       "4  CYP2D6                1A                               Tier 1 VIP  211.375   \n",
       "\n",
       "  Phenotype Category  PMID Count  Evidence Count        Drug(s)  \\\n",
       "0           Efficacy          28              30      ivacaftor   \n",
       "1           Efficacy           1               3      ivacaftor   \n",
       "2           Efficacy           1               3      ivacaftor   \n",
       "3           Toxicity          17              21      phenytoin   \n",
       "4           Toxicity           6               9  amitriptyline   \n",
       "\n",
       "                                        Phenotype(s)  \\\n",
       "0                                    Cystic Fibrosis   \n",
       "1                                    Cystic Fibrosis   \n",
       "2                                    Cystic Fibrosis   \n",
       "3  drug reaction with eosinophilia and systemic s...   \n",
       "4                                Depressive Disorder   \n",
       "\n",
       "  Latest History Date (YYYY-MM-DD)  \\\n",
       "0                       2021-03-24   \n",
       "1                       2021-03-24   \n",
       "2                       2021-03-24   \n",
       "3                       2021-03-24   \n",
       "4                       2021-04-23   \n",
       "\n",
       "                                                 URL Specialty Population  \n",
       "0  https://www.pharmgkb.org/clinicalAnnotation/98...            Pediatric  \n",
       "1  https://www.pharmgkb.org/clinicalAnnotation/14...                       \n",
       "2  https://www.pharmgkb.org/clinicalAnnotation/14...                       \n",
       "3  https://www.pharmgkb.org/clinicalAnnotation/98...            Pediatric  \n",
       "4  https://www.pharmgkb.org/clinicalAnnotation/14...                       "
      ]
     },
     "execution_count": 3,
     "metadata": {},
     "output_type": "execute_result"
    }
   ],
   "source": [
    "df_clinical_annotation = pd.read_csv('clinical_annotation/clinical_annotations.tsv', sep='\\t').fillna(\"\")\n",
    "df_clinical_annotation = df_clinical_annotation[(df_clinical_annotation[\"Level of Evidence\"] == \"1A\") | \n",
    "                                              (df_clinical_annotation[\"Level of Evidence\"] == \"1B\")]\n",
    "df_clinical_annotation.index = range(len(df_clinical_annotation))\n",
    "print(df_clinical_annotation.shape)\n",
    "df_clinical_annotation[:5]"
   ]
  },
  {
   "cell_type": "code",
   "execution_count": 4,
   "id": "9e545be8",
   "metadata": {},
   "outputs": [
    {
     "data": {
      "text/plain": [
       "{'Dosage',\n",
       " 'Efficacy',\n",
       " 'Efficacy;Toxicity',\n",
       " 'Metabolism/PK',\n",
       " 'Other',\n",
       " 'Toxicity'}"
      ]
     },
     "execution_count": 4,
     "metadata": {},
     "output_type": "execute_result"
    }
   ],
   "source": [
    "set(df_clinical_annotation[\"Phenotype Category\"].values)"
   ]
  },
  {
   "cell_type": "code",
   "execution_count": 5,
   "id": "ad9ab1f4",
   "metadata": {},
   "outputs": [],
   "source": [
    "# use to fix wrong comma split\n",
    "special_haplotype_name_list = [\"G6PD Mediterranean, Dallas, Panama, Sassari, Cagliari, Birmingham\"]\n",
    "\n",
    "dosage_variant_drug_list = []\n",
    "efficacy_variant_drug_list = []\n",
    "toxicity_variant_drug_list = []\n",
    "metabolism_variant_drug_list = []\n",
    "other_variant_drug_list = []\n",
    "\n",
    "all_variant_list = []\n",
    "\n",
    "for index, row in df_clinical_annotation.iterrows():\n",
    "    variant = row[\"Variant/Haplotypes\"]\n",
    "    variant_list = []\n",
    "    for shn in special_haplotype_name_list:\n",
    "        if shn in variant:\n",
    "            variant_list.append(shn)\n",
    "            variant = variant.replace(shn, \"\")\n",
    "    variant_list.extend([x.strip() for x in variant.split(\",\")])\n",
    "    variant_list = list(filter(lambda x: x!= \"\", variant_list))\n",
    "    all_variant_list.extend(variant_list)\n",
    "    \n",
    "    level = row[\"Level of Evidence\"]\n",
    "    phenotype_category = row[\"Phenotype Category\"]\n",
    "    drug = row[\"Drug(s)\"]\n",
    "    drug_list = [x.strip() for x in re.split(r\";|,|/\", drug)]\n",
    "    \n",
    "    for v in variant_list:\n",
    "        for d in drug_list:\n",
    "            if \"Dosage\" in phenotype_category:\n",
    "                    dosage_variant_drug_list.append((v, level, d))\n",
    "            elif \"Efficacy\" in phenotype_category:\n",
    "                    efficacy_variant_drug_list.append((v, level, d))\n",
    "            elif \"Metabolism\" in phenotype_category:\n",
    "                    metabolism_variant_drug_list.append((v, level, d))\n",
    "            elif \"Toxicity\" in phenotype_category:\n",
    "                    toxicity_variant_drug_list.append((v, level, d))\n",
    "            elif \"Other\" in phenotype_category:\n",
    "                    other_variant_drug_list.append((v, level, d))\n",
    "\n",
    "dosage_variant_drug_list = list(set(dosage_variant_drug_list))\n",
    "efficacy_variant_drug_list = list(set(efficacy_variant_drug_list))\n",
    "toxicity_variant_drug_list = list(set(toxicity_variant_drug_list))\n",
    "metabolism_variant_drug_list = list(set(metabolism_variant_drug_list))\n",
    "other_variant_drug_list = list(set(other_variant_drug_list))"
   ]
  },
  {
   "cell_type": "code",
   "execution_count": 6,
   "id": "805e5bce",
   "metadata": {},
   "outputs": [
    {
     "name": "stdout",
     "output_type": "stream",
     "text": [
      "50\n",
      "107\n",
      "516\n",
      "327\n",
      "15\n"
     ]
    }
   ],
   "source": [
    "print(len(dosage_variant_drug_list))\n",
    "print(len(efficacy_variant_drug_list))\n",
    "print(len(toxicity_variant_drug_list))\n",
    "print(len(metabolism_variant_drug_list))\n",
    "print(len(other_variant_drug_list))"
   ]
  },
  {
   "cell_type": "code",
   "execution_count": 7,
   "id": "0772221b",
   "metadata": {},
   "outputs": [
    {
     "data": {
      "text/plain": [
       "246"
      ]
     },
     "execution_count": 7,
     "metadata": {},
     "output_type": "execute_result"
    }
   ],
   "source": [
    "# all variant / haplotype in clinical data\n",
    "len(set(all_variant_list))"
   ]
  },
  {
   "cell_type": "markdown",
   "id": "8b8822ce",
   "metadata": {},
   "source": [
    "### 过滤一下有哪些Gene出现在了clinical annotation当中"
   ]
  },
  {
   "cell_type": "code",
   "execution_count": 8,
   "id": "10a6a6cb",
   "metadata": {},
   "outputs": [
    {
     "data": {
      "text/plain": [
       "1949"
      ]
     },
     "execution_count": 8,
     "metadata": {},
     "output_type": "execute_result"
    }
   ],
   "source": [
    "# get gene symbols from variant table\n",
    "gene_symbol_list = []\n",
    "for x in set(pd.read_csv('variants/variants.tsv', sep='\\t', \n",
    "                         error_bad_lines=False).fillna(\"\")[\"Gene Symbols\"].values):\n",
    "    gene_symbol_list.extend(x.split(\",\"))\n",
    "gene_symbol_list = list(filter(lambda x: x!= \"\", set(gene_symbol_list)))\n",
    "len(gene_symbol_list)"
   ]
  },
  {
   "cell_type": "code",
   "execution_count": 9,
   "id": "41e5115b",
   "metadata": {},
   "outputs": [
    {
     "name": "stdout",
     "output_type": "stream",
     "text": [
      "['', 'F5', 'CACNA1S', 'UGT1A1', 'CYP2D6', 'IFNL3;IFNL4', 'SLCO1B1', 'MT-ND1;MT-RNR1', 'HLA-A', 'VKORC1', 'HLA-B', 'IFNL4', 'G6PD', 'NUDT15', 'CYP3A4', 'NAT2', 'CYP2A6', 'CFTR', 'TPMT', 'IFNL3', 'DPYD', 'RYR1', 'CYP2C9', 'CYP2B6', 'CYP4F2', 'CYP3A5', 'MT-RNR1', 'EGFR', 'CYP2C19']\n"
     ]
    }
   ],
   "source": [
    "# filter all genes mentioned on clinical annotation, \n",
    "# help to reduce workload for generating position <-> haplotype mapping.\n",
    "mentioned_gene_list = []\n",
    "for gene in gene_symbol_list:\n",
    "    for vh in all_variant_list:\n",
    "        if gene in vh:\n",
    "            mentioned_gene_list.append(gene)\n",
    "            break\n",
    "\n",
    "# mentioned genes:\n",
    "print(list(set(df_clinical_annotation[\"Gene\"].values)))"
   ]
  },
  {
   "cell_type": "code",
   "execution_count": 10,
   "id": "0dd4e424",
   "metadata": {},
   "outputs": [
    {
     "name": "stdout",
     "output_type": "stream",
     "text": [
      "['HLA-A', 'CYP2C9', 'CYP2A6', 'G6PD', 'UGT1A1', 'UGT1A', 'CYP3A4', 'NUDT15', 'HLA-B', 'CYP2B6', 'TPMT', 'NAT2', 'CYP3A', 'CYP2C19', 'CYP2D6', 'CYP3A5']\n"
     ]
    }
   ],
   "source": [
    "# mentioned genes, this one is correct\n",
    "print(mentioned_gene_list)"
   ]
  },
  {
   "cell_type": "code",
   "execution_count": 11,
   "id": "6c44ec39",
   "metadata": {
    "scrolled": false
   },
   "outputs": [
    {
     "data": {
      "text/plain": [
       "[('CYP2D6*5', '1A', 'imipramine'), ('NUDT15*3', '1A', 'mercaptopurine')]"
      ]
     },
     "execution_count": 11,
     "metadata": {},
     "output_type": "execute_result"
    }
   ],
   "source": [
    "dosage_variant_drug_list[:2]"
   ]
  },
  {
   "cell_type": "code",
   "execution_count": 16,
   "id": "0b8a05b5",
   "metadata": {},
   "outputs": [],
   "source": [
    "df_clinical_drug_variant_annotation = pd.concat([\n",
    "    pd.DataFrame(dosage_variant_drug_list, \n",
    "                 columns=[\"variant\", \"evidence\", \"drug\"]),\n",
    "    pd.DataFrame(efficacy_variant_drug_list,\n",
    "                 columns=[\"variant\", \"evidence\", \"drug\"]),\n",
    "    pd.DataFrame(toxicity_variant_drug_list,\n",
    "                 columns=[\"variant\", \"evidence\", \"drug\"]),\n",
    "    pd.DataFrame(metabolism_variant_drug_list,\n",
    "                 columns=[\"variant\", \"evidence\", \"drug\"]),\n",
    "    pd.DataFrame(other_variant_drug_list,\n",
    "                 columns=[\"variant\", \"evidence\", \"drug\"]),\n",
    "], axis=0, ignore_index=True)\n",
    "\n",
    "phenotype_list = [\"dosage\"] * len(dosage_variant_drug_list) + [\"efficacy\"] * len(efficacy_variant_drug_list) + \\\n",
    "                 [\"toxicity\"] * len(toxicity_variant_drug_list) + [\"metabolism\"] * len(metabolism_variant_drug_list) + \\\n",
    "                 [\"other\"] * len(other_variant_drug_list)\n",
    "\n",
    "df_clinical_drug_variant_annotation = df_clinical_drug_variant_annotation.assign(\n",
    "    phenotype=phenotype_list\n",
    ").assign(\n",
    "    data_source=[\"clinical_annotation\"] * len(phenotype_list))"
   ]
  },
  {
   "cell_type": "code",
   "execution_count": 17,
   "id": "3851b305",
   "metadata": {},
   "outputs": [],
   "source": [
    "df_clinical_drug_variant_annotation.to_csv(\"processed/clinical_drug_variant_annotation.csv\", index=False)"
   ]
  },
  {
   "cell_type": "code",
   "execution_count": null,
   "id": "c725b06e",
   "metadata": {},
   "outputs": [],
   "source": []
  }
 ],
 "metadata": {
  "kernelspec": {
   "display_name": "Python 3",
   "language": "python",
   "name": "python3"
  },
  "language_info": {
   "codemirror_mode": {
    "name": "ipython",
    "version": 3
   },
   "file_extension": ".py",
   "mimetype": "text/x-python",
   "name": "python",
   "nbconvert_exporter": "python",
   "pygments_lexer": "ipython3",
   "version": "3.6.13"
  }
 },
 "nbformat": 4,
 "nbformat_minor": 5
}
