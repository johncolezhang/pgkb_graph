{
 "cells": [
  {
   "cell_type": "markdown",
   "id": "6dd9e89c",
   "metadata": {},
   "source": [
    "## 生成FDA Drug Label的关系数据"
   ]
  },
  {
   "cell_type": "code",
   "execution_count": 2,
   "id": "12d71a57",
   "metadata": {},
   "outputs": [
    {
     "data": {
      "text/plain": [
       "'D:\\\\drug KG\\\\pgkb'"
      ]
     },
     "execution_count": 2,
     "metadata": {},
     "output_type": "execute_result"
    }
   ],
   "source": [
    "import pandas as pd\n",
    "import os\n",
    "import json\n",
    "import re\n",
    "os.getcwd()"
   ]
  },
  {
   "cell_type": "code",
   "execution_count": 3,
   "id": "cc8e3be0",
   "metadata": {},
   "outputs": [
    {
     "name": "stdout",
     "output_type": "stream",
     "text": [
      "(373, 14)\n"
     ]
    },
    {
     "data": {
      "text/html": [
       "<div>\n",
       "<style scoped>\n",
       "    .dataframe tbody tr th:only-of-type {\n",
       "        vertical-align: middle;\n",
       "    }\n",
       "\n",
       "    .dataframe tbody tr th {\n",
       "        vertical-align: top;\n",
       "    }\n",
       "\n",
       "    .dataframe thead th {\n",
       "        text-align: right;\n",
       "    }\n",
       "</style>\n",
       "<table border=\"1\" class=\"dataframe\">\n",
       "  <thead>\n",
       "    <tr style=\"text-align: right;\">\n",
       "      <th></th>\n",
       "      <th>PharmGKB ID</th>\n",
       "      <th>Name</th>\n",
       "      <th>Source</th>\n",
       "      <th>Biomarker Flag</th>\n",
       "      <th>Testing Level</th>\n",
       "      <th>Has Prescribing Info</th>\n",
       "      <th>Has Dosing Info</th>\n",
       "      <th>Has Alternate Drug</th>\n",
       "      <th>Cancer Genome</th>\n",
       "      <th>Prescribing</th>\n",
       "      <th>Chemicals</th>\n",
       "      <th>Genes</th>\n",
       "      <th>Variants/Haplotypes</th>\n",
       "      <th>Latest History Date (YYYY-MM-DD)</th>\n",
       "    </tr>\n",
       "  </thead>\n",
       "  <tbody>\n",
       "    <tr>\n",
       "      <th>28</th>\n",
       "      <td>PA166184637</td>\n",
       "      <td>Annotation of FDA Label for oxymetazoline and ...</td>\n",
       "      <td>FDA</td>\n",
       "      <td>On</td>\n",
       "      <td>Actionable PGx</td>\n",
       "      <td>Prescribing Info</td>\n",
       "      <td></td>\n",
       "      <td></td>\n",
       "      <td></td>\n",
       "      <td>Prescribing</td>\n",
       "      <td>oxymetazoline and tetracaine</td>\n",
       "      <td>BCHE; CYB5R3; G6PD</td>\n",
       "      <td></td>\n",
       "      <td>2019-10-24</td>\n",
       "    </tr>\n",
       "    <tr>\n",
       "      <th>31</th>\n",
       "      <td>PA166153492</td>\n",
       "      <td>Annotation of FDA Label for brivaracetam and C...</td>\n",
       "      <td>FDA</td>\n",
       "      <td>On</td>\n",
       "      <td>Actionable PGx</td>\n",
       "      <td>Prescribing Info</td>\n",
       "      <td></td>\n",
       "      <td></td>\n",
       "      <td></td>\n",
       "      <td>Prescribing</td>\n",
       "      <td>brivaracetam</td>\n",
       "      <td>CYP2C19</td>\n",
       "      <td></td>\n",
       "      <td>2017-11-09</td>\n",
       "    </tr>\n",
       "  </tbody>\n",
       "</table>\n",
       "</div>"
      ],
      "text/plain": [
       "    PharmGKB ID                                               Name Source  \\\n",
       "28  PA166184637  Annotation of FDA Label for oxymetazoline and ...    FDA   \n",
       "31  PA166153492  Annotation of FDA Label for brivaracetam and C...    FDA   \n",
       "\n",
       "   Biomarker Flag   Testing Level Has Prescribing Info Has Dosing Info  \\\n",
       "28             On  Actionable PGx     Prescribing Info                   \n",
       "31             On  Actionable PGx     Prescribing Info                   \n",
       "\n",
       "   Has Alternate Drug Cancer Genome  Prescribing  \\\n",
       "28                                   Prescribing   \n",
       "31                                   Prescribing   \n",
       "\n",
       "                       Chemicals               Genes Variants/Haplotypes  \\\n",
       "28  oxymetazoline and tetracaine  BCHE; CYB5R3; G6PD                       \n",
       "31                  brivaracetam             CYP2C19                       \n",
       "\n",
       "   Latest History Date (YYYY-MM-DD)  \n",
       "28                       2019-10-24  \n",
       "31                       2017-11-09  "
      ]
     },
     "execution_count": 3,
     "metadata": {},
     "output_type": "execute_result"
    }
   ],
   "source": [
    "df_drug_label = pd.read_csv('drug_label/drugLabels.tsv', sep='\\t').fillna(\"\")\n",
    "df_drug_label = df_drug_label[df_drug_label[\"Source\"] == \"FDA\"]\n",
    "print(df_drug_label.shape)\n",
    "df_drug_label[:2]"
   ]
  },
  {
   "cell_type": "code",
   "execution_count": 4,
   "id": "51d9e44b",
   "metadata": {},
   "outputs": [],
   "source": [
    "drug_gene_label_list = []\n",
    "drug_variant_label_list = []\n",
    "\n",
    "for index, row in df_drug_label.iterrows():\n",
    "    genes = row[\"Genes\"]\n",
    "    gene_list = [x.strip() for x in genes.split(\";\")]\n",
    "    variant = row[\"Variants/Haplotypes\"]\n",
    "    variant_list = filter(lambda x: x!= \"\", [x.strip() for x in variant.split(\";\")])\n",
    "    chemicals = row[\"Chemicals\"]\n",
    "    chemical_list = filter(lambda x: x!= \"\", [x.strip() for x in re.split(r\"and|/\", chemicals)])\n",
    "    source = row[\"Source\"]\n",
    "    level = row[\"Testing Level\"]\n",
    "    \n",
    "    for c in chemical_list:\n",
    "        for g in gene_list:\n",
    "            drug_gene_label_list.append((c, level, source, g))\n",
    "            \n",
    "        for v in variant_list:\n",
    "            drug_variant_label_list.append((c, level, source, v))\n"
   ]
  },
  {
   "cell_type": "code",
   "execution_count": 5,
   "id": "0fc03b5c",
   "metadata": {},
   "outputs": [
    {
     "name": "stdout",
     "output_type": "stream",
     "text": [
      "118\n"
     ]
    },
    {
     "data": {
      "text/plain": [
       "[('simeprevir', 'Informative PGx', 'FDA', 'rs12979860'),\n",
       " ('ponatinib', 'Testing required', 'FDA', 'rs121913459')]"
      ]
     },
     "execution_count": 5,
     "metadata": {},
     "output_type": "execute_result"
    }
   ],
   "source": [
    "print(len(drug_variant_label_list))\n",
    "drug_variant_label_list[:2]"
   ]
  },
  {
   "cell_type": "code",
   "execution_count": 6,
   "id": "e1375d51",
   "metadata": {},
   "outputs": [
    {
     "name": "stdout",
     "output_type": "stream",
     "text": [
      "636\n"
     ]
    },
    {
     "data": {
      "text/plain": [
       "[('oxymetazoline', 'Actionable PGx', 'FDA', 'BCHE'),\n",
       " ('oxymetazoline', 'Actionable PGx', 'FDA', 'CYB5R3')]"
      ]
     },
     "execution_count": 6,
     "metadata": {},
     "output_type": "execute_result"
    }
   ],
   "source": [
    "print(len(drug_gene_label_list))\n",
    "drug_gene_label_list[:2]"
   ]
  },
  {
   "cell_type": "code",
   "execution_count": 9,
   "id": "14b52696",
   "metadata": {},
   "outputs": [],
   "source": [
    "pd.DataFrame(drug_gene_label_list, \n",
    "             columns=[\"drug\", \"label\", \"organization\", \"gene\"]).assign(\n",
    "    data_source=[\"drug_label\"] * len(drug_gene_label_list)).to_csv(\"processed/fda_drug_gene_label.csv\", index=False)\n",
    "\n",
    "pd.DataFrame(drug_variant_label_list, \n",
    "             columns=[\"drug\", \"label\", \"organization\", \"variant\"]).assign(\n",
    "    data_source=[\"drug_label\"] * len(drug_variant_label_list)).to_csv(\"processed/fda_drug_variant_label.csv\", index=False)"
   ]
  },
  {
   "cell_type": "code",
   "execution_count": null,
   "id": "a789847c",
   "metadata": {},
   "outputs": [],
   "source": []
  }
 ],
 "metadata": {
  "kernelspec": {
   "display_name": "Python 3",
   "language": "python",
   "name": "python3"
  },
  "language_info": {
   "codemirror_mode": {
    "name": "ipython",
    "version": 3
   },
   "file_extension": ".py",
   "mimetype": "text/x-python",
   "name": "python",
   "nbconvert_exporter": "python",
   "pygments_lexer": "ipython3",
   "version": "3.6.13"
  }
 },
 "nbformat": 4,
 "nbformat_minor": 5
}
