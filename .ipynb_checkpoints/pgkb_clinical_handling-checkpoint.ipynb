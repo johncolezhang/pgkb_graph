{
 "cells": [
  {
   "cell_type": "markdown",
   "id": "840fdabd",
   "metadata": {},
   "source": [
    "## 生成临床clinical annotation的关系数据"
   ]
  },
  {
   "cell_type": "code",
   "execution_count": 2,
   "id": "ca8605cc",
   "metadata": {},
   "outputs": [
    {
     "data": {
      "text/plain": [
       "'D:\\\\pgkb_graph'"
      ]
     },
     "execution_count": 2,
     "metadata": {},
     "output_type": "execute_result"
    }
   ],
   "source": [
    "import pandas as pd\n",
    "import os\n",
    "import json\n",
    "import re\n",
    "os.getcwd()"
   ]
  },
  {
   "cell_type": "code",
   "execution_count": 3,
   "id": "6633ce0e",
   "metadata": {},
   "outputs": [
    {
     "name": "stdout",
     "output_type": "stream",
     "text": [
      "(4871, 15)\n"
     ]
    },
    {
     "data": {
      "text/html": [
       "<div>\n",
       "<style scoped>\n",
       "    .dataframe tbody tr th:only-of-type {\n",
       "        vertical-align: middle;\n",
       "    }\n",
       "\n",
       "    .dataframe tbody tr th {\n",
       "        vertical-align: top;\n",
       "    }\n",
       "\n",
       "    .dataframe thead th {\n",
       "        text-align: right;\n",
       "    }\n",
       "</style>\n",
       "<table border=\"1\" class=\"dataframe\">\n",
       "  <thead>\n",
       "    <tr style=\"text-align: right;\">\n",
       "      <th></th>\n",
       "      <th>Clinical Annotation ID</th>\n",
       "      <th>Variant/Haplotypes</th>\n",
       "      <th>Gene</th>\n",
       "      <th>Level of Evidence</th>\n",
       "      <th>Level Override</th>\n",
       "      <th>Level Modifiers</th>\n",
       "      <th>Score</th>\n",
       "      <th>Phenotype Category</th>\n",
       "      <th>PMID Count</th>\n",
       "      <th>Evidence Count</th>\n",
       "      <th>Drug(s)</th>\n",
       "      <th>Phenotype(s)</th>\n",
       "      <th>Latest History Date (YYYY-MM-DD)</th>\n",
       "      <th>URL</th>\n",
       "      <th>Specialty Population</th>\n",
       "    </tr>\n",
       "  </thead>\n",
       "  <tbody>\n",
       "    <tr>\n",
       "      <th>0</th>\n",
       "      <td>981755803</td>\n",
       "      <td>rs75527207</td>\n",
       "      <td>CFTR</td>\n",
       "      <td>1A</td>\n",
       "      <td></td>\n",
       "      <td>Rare Variant; Tier 1 VIP</td>\n",
       "      <td>234.875</td>\n",
       "      <td>Efficacy</td>\n",
       "      <td>28</td>\n",
       "      <td>30</td>\n",
       "      <td>ivacaftor</td>\n",
       "      <td>Cystic Fibrosis</td>\n",
       "      <td>2021-03-24</td>\n",
       "      <td>https://www.pharmgkb.org/clinicalAnnotation/98...</td>\n",
       "      <td>Pediatric</td>\n",
       "    </tr>\n",
       "    <tr>\n",
       "      <th>1</th>\n",
       "      <td>1449311190</td>\n",
       "      <td>rs4149056</td>\n",
       "      <td>SLCO1B1</td>\n",
       "      <td>3</td>\n",
       "      <td></td>\n",
       "      <td>Tier 1 VIP</td>\n",
       "      <td>2</td>\n",
       "      <td>Dosage</td>\n",
       "      <td>1</td>\n",
       "      <td>1</td>\n",
       "      <td>mercaptopurine;methotrexate</td>\n",
       "      <td>Precursor Cell Lymphoblastic Leukemia-Lymphoma</td>\n",
       "      <td>2021-03-24</td>\n",
       "      <td>https://www.pharmgkb.org/clinicalAnnotation/14...</td>\n",
       "      <td>Pediatric</td>\n",
       "    </tr>\n",
       "    <tr>\n",
       "      <th>2</th>\n",
       "      <td>981204774</td>\n",
       "      <td>rs1799971</td>\n",
       "      <td>OPRM1</td>\n",
       "      <td>4</td>\n",
       "      <td></td>\n",
       "      <td></td>\n",
       "      <td>-2</td>\n",
       "      <td>Efficacy</td>\n",
       "      <td>2</td>\n",
       "      <td>3</td>\n",
       "      <td>Drugs used in nicotine dependence;nicotine</td>\n",
       "      <td>Tobacco Use Disorder</td>\n",
       "      <td>2021-03-24</td>\n",
       "      <td>https://www.pharmgkb.org/clinicalAnnotation/98...</td>\n",
       "      <td></td>\n",
       "    </tr>\n",
       "    <tr>\n",
       "      <th>3</th>\n",
       "      <td>1449191690</td>\n",
       "      <td>rs141033578</td>\n",
       "      <td>CFTR</td>\n",
       "      <td>1A</td>\n",
       "      <td></td>\n",
       "      <td>Rare Variant; Tier 1 VIP</td>\n",
       "      <td>200</td>\n",
       "      <td>Efficacy</td>\n",
       "      <td>1</td>\n",
       "      <td>3</td>\n",
       "      <td>ivacaftor</td>\n",
       "      <td>Cystic Fibrosis</td>\n",
       "      <td>2021-03-24</td>\n",
       "      <td>https://www.pharmgkb.org/clinicalAnnotation/14...</td>\n",
       "      <td></td>\n",
       "    </tr>\n",
       "    <tr>\n",
       "      <th>4</th>\n",
       "      <td>1449191746</td>\n",
       "      <td>rs78769542</td>\n",
       "      <td>CFTR</td>\n",
       "      <td>1A</td>\n",
       "      <td></td>\n",
       "      <td>Rare Variant; Tier 1 VIP</td>\n",
       "      <td>200</td>\n",
       "      <td>Efficacy</td>\n",
       "      <td>1</td>\n",
       "      <td>3</td>\n",
       "      <td>ivacaftor</td>\n",
       "      <td>Cystic Fibrosis</td>\n",
       "      <td>2021-03-24</td>\n",
       "      <td>https://www.pharmgkb.org/clinicalAnnotation/14...</td>\n",
       "      <td></td>\n",
       "    </tr>\n",
       "  </tbody>\n",
       "</table>\n",
       "</div>"
      ],
      "text/plain": [
       "   Clinical Annotation ID Variant/Haplotypes     Gene Level of Evidence  \\\n",
       "0               981755803         rs75527207     CFTR                1A   \n",
       "1              1449311190          rs4149056  SLCO1B1                 3   \n",
       "2               981204774          rs1799971    OPRM1                 4   \n",
       "3              1449191690        rs141033578     CFTR                1A   \n",
       "4              1449191746         rs78769542     CFTR                1A   \n",
       "\n",
       "  Level Override           Level Modifiers    Score Phenotype Category  \\\n",
       "0                 Rare Variant; Tier 1 VIP  234.875           Efficacy   \n",
       "1                               Tier 1 VIP        2             Dosage   \n",
       "2                                                -2           Efficacy   \n",
       "3                 Rare Variant; Tier 1 VIP      200           Efficacy   \n",
       "4                 Rare Variant; Tier 1 VIP      200           Efficacy   \n",
       "\n",
       "   PMID Count  Evidence Count                                     Drug(s)  \\\n",
       "0          28              30                                   ivacaftor   \n",
       "1           1               1                 mercaptopurine;methotrexate   \n",
       "2           2               3  Drugs used in nicotine dependence;nicotine   \n",
       "3           1               3                                   ivacaftor   \n",
       "4           1               3                                   ivacaftor   \n",
       "\n",
       "                                     Phenotype(s)  \\\n",
       "0                                 Cystic Fibrosis   \n",
       "1  Precursor Cell Lymphoblastic Leukemia-Lymphoma   \n",
       "2                            Tobacco Use Disorder   \n",
       "3                                 Cystic Fibrosis   \n",
       "4                                 Cystic Fibrosis   \n",
       "\n",
       "  Latest History Date (YYYY-MM-DD)  \\\n",
       "0                       2021-03-24   \n",
       "1                       2021-03-24   \n",
       "2                       2021-03-24   \n",
       "3                       2021-03-24   \n",
       "4                       2021-03-24   \n",
       "\n",
       "                                                 URL Specialty Population  \n",
       "0  https://www.pharmgkb.org/clinicalAnnotation/98...            Pediatric  \n",
       "1  https://www.pharmgkb.org/clinicalAnnotation/14...            Pediatric  \n",
       "2  https://www.pharmgkb.org/clinicalAnnotation/98...                       \n",
       "3  https://www.pharmgkb.org/clinicalAnnotation/14...                       \n",
       "4  https://www.pharmgkb.org/clinicalAnnotation/14...                       "
      ]
     },
     "execution_count": 3,
     "metadata": {},
     "output_type": "execute_result"
    }
   ],
   "source": [
    "df_clinical_annotation = pd.read_csv('clinical_annotation/clinical_annotations.tsv', sep='\\t').fillna(\"\")\n",
    "# df_clinical_annotation = df_clinical_annotation[(df_clinical_annotation[\"Level of Evidence\"] == \"1A\") | \n",
    "#                                               (df_clinical_annotation[\"Level of Evidence\"] == \"1B\")]\n",
    "df_clinical_annotation.index = range(len(df_clinical_annotation))\n",
    "print(df_clinical_annotation.shape)\n",
    "df_clinical_annotation[:5]"
   ]
  },
  {
   "cell_type": "code",
   "execution_count": 4,
   "id": "9e545be8",
   "metadata": {},
   "outputs": [
    {
     "data": {
      "text/plain": [
       "{'',\n",
       " 'Dosage',\n",
       " 'Dosage;Efficacy',\n",
       " 'Dosage;Metabolism/PK',\n",
       " 'Dosage;Other',\n",
       " 'Dosage;Toxicity',\n",
       " 'Efficacy',\n",
       " 'Efficacy;Metabolism/PK',\n",
       " 'Efficacy;Toxicity',\n",
       " 'Efficacy;Toxicity;Metabolism/PK',\n",
       " 'Metabolism/PK',\n",
       " 'Other',\n",
       " 'Toxicity',\n",
       " 'Toxicity;Metabolism/PK'}"
      ]
     },
     "execution_count": 4,
     "metadata": {},
     "output_type": "execute_result"
    }
   ],
   "source": [
    "set(df_clinical_annotation[\"Phenotype Category\"].values)"
   ]
  },
  {
   "cell_type": "code",
   "execution_count": 17,
   "id": "ad9ab1f4",
   "metadata": {},
   "outputs": [],
   "source": [
    "# use to fix wrong comma split\n",
    "special_haplotype_name_list = [\"G6PD Mediterranean, Dallas, Panama, Sassari, Cagliari, Birmingham\"]\n",
    "\n",
    "dosage_variant_drug_list = []\n",
    "efficacy_variant_drug_list = []\n",
    "toxicity_variant_drug_list = []\n",
    "metabolism_variant_drug_list = []\n",
    "other_variant_drug_list = []\n",
    "variant_drug_list = []\n",
    "\n",
    "all_variant_list = []\n",
    "\n",
    "for index, row in df_clinical_annotation.iterrows():\n",
    "    variant = row[\"Variant/Haplotypes\"]\n",
    "    variant_list = []\n",
    "    for shn in special_haplotype_name_list:\n",
    "        if shn in variant:\n",
    "            variant_list.append(shn)\n",
    "            variant = variant.replace(shn, \"\")\n",
    "    variant_list.extend([x.strip() for x in variant.split(\",\")])\n",
    "    variant_list = list(filter(lambda x: x!= \"\", variant_list))\n",
    "    all_variant_list.extend(variant_list)\n",
    "    \n",
    "    level = row[\"Level of Evidence\"]\n",
    "    phenotype_category = row[\"Phenotype Category\"]\n",
    "    phenotype = row[\"Phenotype(s)\"]\n",
    "    update_date = row[\"Latest History Date (YYYY-MM-DD)\"]\n",
    "    \n",
    "    drug = row[\"Drug(s)\"]\n",
    "    drug_list = [x.strip() for x in re.split(r\";|,|/\", drug)]\n",
    "    \n",
    "    for v in variant_list:\n",
    "        for d in drug_list:\n",
    "            variant_drug_list.append((v, level, phenotype_category, phenotype, update_date, d))\n",
    "#             if \"Dosage\" in phenotype_category:\n",
    "#                     dosage_variant_drug_list.append((v, level, d))\n",
    "#             elif \"Efficacy\" in phenotype_category:\n",
    "#                     efficacy_variant_drug_list.append((v, level, d))\n",
    "#             elif \"Metabolism\" in phenotype_category:\n",
    "#                     metabolism_variant_drug_list.append((v, level, d))\n",
    "#             elif \"Toxicity\" in phenotype_category:\n",
    "#                     toxicity_variant_drug_list.append((v, level, d))\n",
    "#             elif \"Other\" in phenotype_category:\n",
    "#                     other_variant_drug_list.append((v, level, d))\n",
    "\n",
    "\n",
    "# dosage_variant_drug_list = list(set(dosage_variant_drug_list))\n",
    "# efficacy_variant_drug_list = list(set(efficacy_variant_drug_list))\n",
    "# toxicity_variant_drug_list = list(set(toxicity_variant_drug_list))\n",
    "# metabolism_variant_drug_list = list(set(metabolism_variant_drug_list))\n",
    "# other_variant_drug_list = list(set(other_variant_drug_list))\n",
    "variant_drug_list = list(set(variant_drug_list))"
   ]
  },
  {
   "cell_type": "code",
   "execution_count": 18,
   "id": "805e5bce",
   "metadata": {},
   "outputs": [
    {
     "name": "stdout",
     "output_type": "stream",
     "text": [
      "8240\n"
     ]
    }
   ],
   "source": [
    "print(len(variant_drug_list))"
   ]
  },
  {
   "cell_type": "code",
   "execution_count": 19,
   "id": "0772221b",
   "metadata": {},
   "outputs": [
    {
     "data": {
      "text/plain": [
       "3133"
      ]
     },
     "execution_count": 19,
     "metadata": {},
     "output_type": "execute_result"
    }
   ],
   "source": [
    "# all variant / haplotype in clinical data\n",
    "len(set(all_variant_list))"
   ]
  },
  {
   "cell_type": "markdown",
   "id": "8b8822ce",
   "metadata": {},
   "source": [
    "### 过滤一下有哪些Gene出现在了clinical annotation当中"
   ]
  },
  {
   "cell_type": "code",
   "execution_count": 8,
   "id": "10a6a6cb",
   "metadata": {},
   "outputs": [
    {
     "data": {
      "text/plain": [
       "1949"
      ]
     },
     "execution_count": 8,
     "metadata": {},
     "output_type": "execute_result"
    }
   ],
   "source": [
    "# get gene symbols from variant table\n",
    "gene_symbol_list = []\n",
    "for x in set(pd.read_csv('variants/variants.tsv', sep='\\t', \n",
    "                         error_bad_lines=False).fillna(\"\")[\"Gene Symbols\"].values):\n",
    "    gene_symbol_list.extend(x.split(\",\"))\n",
    "gene_symbol_list = list(filter(lambda x: x!= \"\", set(gene_symbol_list)))\n",
    "len(gene_symbol_list)"
   ]
  },
  {
   "cell_type": "code",
   "execution_count": 10,
   "id": "41e5115b",
   "metadata": {},
   "outputs": [],
   "source": [
    "# filter all genes mentioned on clinical annotation, \n",
    "# help to reduce workload for generating position <-> haplotype mapping.\n",
    "mentioned_gene_list = []\n",
    "for gene in gene_symbol_list:\n",
    "    for vh in all_variant_list:\n",
    "        if gene in vh:\n",
    "            mentioned_gene_list.append(gene)\n",
    "            break\n",
    "\n",
    "# mentioned genes:"
   ]
  },
  {
   "cell_type": "code",
   "execution_count": 11,
   "id": "0dd4e424",
   "metadata": {},
   "outputs": [
    {
     "name": "stdout",
     "output_type": "stream",
     "text": [
      "['CYP2B6', 'SLCO1B1', 'G6PD', 'CYP3A4', 'HTT', 'UGT1A6', 'HLA-C', 'CYP2C8', 'CYP2C19', 'NUDT15', 'UGT1A7', 'CYP2D6', 'UGT1A1', 'CYP1A1', 'HLA-B', 'GSTT1', 'CYP2A6', 'HLA-A', 'CYP1A2', 'HLA-DQB1', 'C6', 'CYP2C9', 'CYP3A5', 'UGT1A3', 'CYP4F2', 'UGT1A4', 'GSTM1', 'CYP3A7', 'UGT2B15', 'SLC6A4', 'CYP2E1', 'HLA-DQA1', 'TPMT', 'CYP3A', 'UGT1A', 'NAT2', 'HLA-DPB1', 'HLA-DRB1', 'F2']\n"
     ]
    }
   ],
   "source": [
    "# mentioned genes, this one is correct\n",
    "print(mentioned_gene_list)"
   ]
  },
  {
   "cell_type": "code",
   "execution_count": 12,
   "id": "6c44ec39",
   "metadata": {
    "scrolled": false
   },
   "outputs": [
    {
     "data": {
      "text/plain": [
       "[('rs2032582', '3', 'antiepileptics'), ('rs1718125', '3', 'fentanyl')]"
      ]
     },
     "execution_count": 12,
     "metadata": {},
     "output_type": "execute_result"
    }
   ],
   "source": [
    "dosage_variant_drug_list[:2]"
   ]
  },
  {
   "cell_type": "code",
   "execution_count": 21,
   "id": "0b8a05b5",
   "metadata": {},
   "outputs": [],
   "source": [
    "# df_clinical_drug_variant_annotation = pd.concat([\n",
    "#     pd.DataFrame(dosage_variant_drug_list, \n",
    "#                  columns=[\"variant\", \"evidence\", \"drug\"]),\n",
    "#     pd.DataFrame(efficacy_variant_drug_list,\n",
    "#                  columns=[\"variant\", \"evidence\", \"drug\"]),\n",
    "#     pd.DataFrame(toxicity_variant_drug_list,\n",
    "#                  columns=[\"variant\", \"evidence\", \"drug\"]),\n",
    "#     pd.DataFrame(metabolism_variant_drug_list,\n",
    "#                  columns=[\"variant\", \"evidence\", \"drug\"]),\n",
    "#     pd.DataFrame(other_variant_drug_list,\n",
    "#                  columns=[\"variant\", \"evidence\", \"drug\"]),\n",
    "# ], axis=0, ignore_index=True)\n",
    "\n",
    "# phenotype_list = [\"dosage\"] * len(dosage_variant_drug_list) + [\"efficacy\"] * len(efficacy_variant_drug_list) + \\\n",
    "#                  [\"toxicity\"] * len(toxicity_variant_drug_list) + [\"metabolism\"] * len(metabolism_variant_drug_list) + \\\n",
    "#                  [\"other\"] * len(other_variant_drug_list)\n",
    "\n",
    "df_clinical_drug_variant_annotation = pd.DataFrame(\n",
    "    variant_drug_list, \n",
    "    columns=[\"variant\", \"evidence_level\", \"phenotype_category\", \"phenotype\", \"update_date\", \"drug\"])\n",
    "\n",
    "# df_clinical_drug_variant_annotation = df_clinical_drug_variant_annotation.assign(\n",
    "#     phenotype=phenotype_list\n",
    "# ).assign(\n",
    "#     data_source=[\"clinical_annotation\"] * len(phenotype_list))\n",
    "\n",
    "df_clinical_drug_variant_annotation = df_clinical_drug_variant_annotation.assign(\n",
    "    data_source=[\"clinical_annotation\"] * len(variant_drug_list))\n"
   ]
  },
  {
   "cell_type": "code",
   "execution_count": 23,
   "id": "3851b305",
   "metadata": {},
   "outputs": [],
   "source": [
    "df_clinical_drug_variant_annotation.to_csv(\"processed/clinical_drug_variant_annotation.csv\", index=False)"
   ]
  },
  {
   "cell_type": "code",
   "execution_count": 22,
   "id": "c725b06e",
   "metadata": {},
   "outputs": [
    {
     "data": {
      "text/html": [
       "<div>\n",
       "<style scoped>\n",
       "    .dataframe tbody tr th:only-of-type {\n",
       "        vertical-align: middle;\n",
       "    }\n",
       "\n",
       "    .dataframe tbody tr th {\n",
       "        vertical-align: top;\n",
       "    }\n",
       "\n",
       "    .dataframe thead th {\n",
       "        text-align: right;\n",
       "    }\n",
       "</style>\n",
       "<table border=\"1\" class=\"dataframe\">\n",
       "  <thead>\n",
       "    <tr style=\"text-align: right;\">\n",
       "      <th></th>\n",
       "      <th>variant</th>\n",
       "      <th>evidence_level</th>\n",
       "      <th>phenotype_category</th>\n",
       "      <th>phenotype</th>\n",
       "      <th>update_date</th>\n",
       "      <th>drug</th>\n",
       "      <th>data_source</th>\n",
       "    </tr>\n",
       "  </thead>\n",
       "  <tbody>\n",
       "    <tr>\n",
       "      <th>0</th>\n",
       "      <td>rs2227631</td>\n",
       "      <td>3</td>\n",
       "      <td>Efficacy</td>\n",
       "      <td>Depressive Disorder, Major</td>\n",
       "      <td>2021-03-24</td>\n",
       "      <td>citalopram</td>\n",
       "      <td>clinical_annotation</td>\n",
       "    </tr>\n",
       "    <tr>\n",
       "      <th>1</th>\n",
       "      <td>HLA-C*16:01:01</td>\n",
       "      <td>3</td>\n",
       "      <td>Efficacy</td>\n",
       "      <td>Hepatitis C</td>\n",
       "      <td>2021-03-24</td>\n",
       "      <td>ribavirin</td>\n",
       "      <td>clinical_annotation</td>\n",
       "    </tr>\n",
       "    <tr>\n",
       "      <th>2</th>\n",
       "      <td>rs2274567</td>\n",
       "      <td>3</td>\n",
       "      <td>Efficacy</td>\n",
       "      <td>paroxysmal nocturnal hemoglobinuria</td>\n",
       "      <td>2021-03-24</td>\n",
       "      <td>eculizumab</td>\n",
       "      <td>clinical_annotation</td>\n",
       "    </tr>\n",
       "    <tr>\n",
       "      <th>3</th>\n",
       "      <td>rs2235067</td>\n",
       "      <td>3</td>\n",
       "      <td>Efficacy</td>\n",
       "      <td>Depressive Disorder, Major</td>\n",
       "      <td>2021-03-24</td>\n",
       "      <td>paroxetine</td>\n",
       "      <td>clinical_annotation</td>\n",
       "    </tr>\n",
       "    <tr>\n",
       "      <th>4</th>\n",
       "      <td>rs1805128</td>\n",
       "      <td>3</td>\n",
       "      <td>Toxicity</td>\n",
       "      <td></td>\n",
       "      <td>2021-03-24</td>\n",
       "      <td>antipsychotics</td>\n",
       "      <td>clinical_annotation</td>\n",
       "    </tr>\n",
       "    <tr>\n",
       "      <th>...</th>\n",
       "      <td>...</td>\n",
       "      <td>...</td>\n",
       "      <td>...</td>\n",
       "      <td>...</td>\n",
       "      <td>...</td>\n",
       "      <td>...</td>\n",
       "      <td>...</td>\n",
       "    </tr>\n",
       "    <tr>\n",
       "      <th>8235</th>\n",
       "      <td>HLA-B*51:01:01</td>\n",
       "      <td>3</td>\n",
       "      <td>Toxicity</td>\n",
       "      <td>Stevens-Johnson Syndrome</td>\n",
       "      <td>2021-03-24</td>\n",
       "      <td>phenobarbital</td>\n",
       "      <td>clinical_annotation</td>\n",
       "    </tr>\n",
       "    <tr>\n",
       "      <th>8236</th>\n",
       "      <td>CYP2C9*2</td>\n",
       "      <td>1B</td>\n",
       "      <td>Toxicity</td>\n",
       "      <td>over-anticoagulation</td>\n",
       "      <td>2021-05-18</td>\n",
       "      <td>acenocoumarol</td>\n",
       "      <td>clinical_annotation</td>\n",
       "    </tr>\n",
       "    <tr>\n",
       "      <th>8237</th>\n",
       "      <td>rs12979860</td>\n",
       "      <td>3</td>\n",
       "      <td>Efficacy</td>\n",
       "      <td>Hepatitis C, Chronic</td>\n",
       "      <td>2021-03-24</td>\n",
       "      <td>voxilaprevir</td>\n",
       "      <td>clinical_annotation</td>\n",
       "    </tr>\n",
       "    <tr>\n",
       "      <th>8238</th>\n",
       "      <td>rs9344</td>\n",
       "      <td>3</td>\n",
       "      <td>Efficacy</td>\n",
       "      <td>Osteosarcoma</td>\n",
       "      <td>2021-07-29</td>\n",
       "      <td>cisplatin</td>\n",
       "      <td>clinical_annotation</td>\n",
       "    </tr>\n",
       "    <tr>\n",
       "      <th>8239</th>\n",
       "      <td>CYP2D6*5</td>\n",
       "      <td>2A</td>\n",
       "      <td>Metabolism/PK</td>\n",
       "      <td></td>\n",
       "      <td>2021-04-23</td>\n",
       "      <td>mirtazapine</td>\n",
       "      <td>clinical_annotation</td>\n",
       "    </tr>\n",
       "  </tbody>\n",
       "</table>\n",
       "<p>8240 rows × 7 columns</p>\n",
       "</div>"
      ],
      "text/plain": [
       "             variant evidence_level phenotype_category  \\\n",
       "0          rs2227631              3           Efficacy   \n",
       "1     HLA-C*16:01:01              3           Efficacy   \n",
       "2          rs2274567              3           Efficacy   \n",
       "3          rs2235067              3           Efficacy   \n",
       "4          rs1805128              3           Toxicity   \n",
       "...              ...            ...                ...   \n",
       "8235  HLA-B*51:01:01              3           Toxicity   \n",
       "8236        CYP2C9*2             1B           Toxicity   \n",
       "8237      rs12979860              3           Efficacy   \n",
       "8238          rs9344              3           Efficacy   \n",
       "8239        CYP2D6*5             2A      Metabolism/PK   \n",
       "\n",
       "                                phenotype update_date            drug  \\\n",
       "0              Depressive Disorder, Major  2021-03-24      citalopram   \n",
       "1                             Hepatitis C  2021-03-24       ribavirin   \n",
       "2     paroxysmal nocturnal hemoglobinuria  2021-03-24      eculizumab   \n",
       "3              Depressive Disorder, Major  2021-03-24      paroxetine   \n",
       "4                                          2021-03-24  antipsychotics   \n",
       "...                                   ...         ...             ...   \n",
       "8235             Stevens-Johnson Syndrome  2021-03-24   phenobarbital   \n",
       "8236                 over-anticoagulation  2021-05-18   acenocoumarol   \n",
       "8237                 Hepatitis C, Chronic  2021-03-24    voxilaprevir   \n",
       "8238                         Osteosarcoma  2021-07-29       cisplatin   \n",
       "8239                                       2021-04-23     mirtazapine   \n",
       "\n",
       "              data_source  \n",
       "0     clinical_annotation  \n",
       "1     clinical_annotation  \n",
       "2     clinical_annotation  \n",
       "3     clinical_annotation  \n",
       "4     clinical_annotation  \n",
       "...                   ...  \n",
       "8235  clinical_annotation  \n",
       "8236  clinical_annotation  \n",
       "8237  clinical_annotation  \n",
       "8238  clinical_annotation  \n",
       "8239  clinical_annotation  \n",
       "\n",
       "[8240 rows x 7 columns]"
      ]
     },
     "execution_count": 22,
     "metadata": {},
     "output_type": "execute_result"
    }
   ],
   "source": [
    "df_clinical_drug_variant_annotation"
   ]
  },
  {
   "cell_type": "code",
   "execution_count": null,
   "id": "7d2d5401",
   "metadata": {},
   "outputs": [],
   "source": []
  },
  {
   "cell_type": "code",
   "execution_count": null,
   "id": "33cf2099",
   "metadata": {},
   "outputs": [],
   "source": []
  }
 ],
 "metadata": {
  "kernelspec": {
   "display_name": "Python 3",
   "language": "python",
   "name": "python3"
  },
  "language_info": {
   "codemirror_mode": {
    "name": "ipython",
    "version": 3
   },
   "file_extension": ".py",
   "mimetype": "text/x-python",
   "name": "python",
   "nbconvert_exporter": "python",
   "pygments_lexer": "ipython3",
   "version": "3.6.13"
  }
 },
 "nbformat": 4,
 "nbformat_minor": 5
}
