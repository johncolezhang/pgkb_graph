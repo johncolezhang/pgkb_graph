{
 "cells": [
  {
   "cell_type": "code",
   "execution_count": 1,
   "id": "27dcd6e6",
   "metadata": {},
   "outputs": [
    {
     "data": {
      "text/plain": [
       "'D:\\\\drug KG\\\\pgkb'"
      ]
     },
     "execution_count": 1,
     "metadata": {},
     "output_type": "execute_result"
    }
   ],
   "source": [
    "import pandas as pd\n",
    "import os\n",
    "import json\n",
    "from collections import defaultdict\n",
    "os.getcwd()"
   ]
  },
  {
   "cell_type": "code",
   "execution_count": 2,
   "id": "3225c347",
   "metadata": {},
   "outputs": [
    {
     "data": {
      "text/html": [
       "<div>\n",
       "<style scoped>\n",
       "    .dataframe tbody tr th:only-of-type {\n",
       "        vertical-align: middle;\n",
       "    }\n",
       "\n",
       "    .dataframe tbody tr th {\n",
       "        vertical-align: top;\n",
       "    }\n",
       "\n",
       "    .dataframe thead th {\n",
       "        text-align: right;\n",
       "    }\n",
       "</style>\n",
       "<table border=\"1\" class=\"dataframe\">\n",
       "  <thead>\n",
       "    <tr style=\"text-align: right;\">\n",
       "      <th></th>\n",
       "      <th>Variant ID</th>\n",
       "      <th>Variant Name</th>\n",
       "      <th>Gene Symbols</th>\n",
       "      <th>Location</th>\n",
       "      <th>Synonyms</th>\n",
       "    </tr>\n",
       "  </thead>\n",
       "  <tbody>\n",
       "    <tr>\n",
       "      <th>0</th>\n",
       "      <td>PA166156302</td>\n",
       "      <td>rs1000002</td>\n",
       "      <td>ABCC5</td>\n",
       "      <td>NC_000003.12:183917980</td>\n",
       "      <td>rs17623022, NG_047115.1:g.105031=, NC_000003.1...</td>\n",
       "    </tr>\n",
       "    <tr>\n",
       "      <th>1</th>\n",
       "      <td>PA166156746</td>\n",
       "      <td>rs1000113</td>\n",
       "      <td>IRGM</td>\n",
       "      <td>NC_000005.10:150860514</td>\n",
       "      <td>1000113, NC_000005.9:g.150240076=, NC_000005.9...</td>\n",
       "    </tr>\n",
       "    <tr>\n",
       "      <th>2</th>\n",
       "      <td>PA166195421</td>\n",
       "      <td>rs10006452</td>\n",
       "      <td>UGT2B7</td>\n",
       "      <td>NC_000004.12:69112090</td>\n",
       "      <td>10006452, NC_000004.12:g.69112090T&gt;A, 58882597...</td>\n",
       "    </tr>\n",
       "    <tr>\n",
       "      <th>3</th>\n",
       "      <td>PA166177121</td>\n",
       "      <td>rs10007051</td>\n",
       "      <td></td>\n",
       "      <td>NC_000004.12:129244309</td>\n",
       "      <td>NC_000004.11:g.130165464=, NC_000004.12:g.1292...</td>\n",
       "    </tr>\n",
       "    <tr>\n",
       "      <th>4</th>\n",
       "      <td>PA166156636</td>\n",
       "      <td>rs10008257</td>\n",
       "      <td></td>\n",
       "      <td>NC_000004.12:94435177</td>\n",
       "      <td>10008257, NC_000004.12:g.94435177=, rs10008257...</td>\n",
       "    </tr>\n",
       "  </tbody>\n",
       "</table>\n",
       "</div>"
      ],
      "text/plain": [
       "    Variant ID Variant Name Gene Symbols                Location  \\\n",
       "0  PA166156302    rs1000002        ABCC5  NC_000003.12:183917980   \n",
       "1  PA166156746    rs1000113         IRGM  NC_000005.10:150860514   \n",
       "2  PA166195421   rs10006452       UGT2B7   NC_000004.12:69112090   \n",
       "3  PA166177121   rs10007051               NC_000004.12:129244309   \n",
       "4  PA166156636   rs10008257                NC_000004.12:94435177   \n",
       "\n",
       "                                            Synonyms  \n",
       "0  rs17623022, NG_047115.1:g.105031=, NC_000003.1...  \n",
       "1  1000113, NC_000005.9:g.150240076=, NC_000005.9...  \n",
       "2  10006452, NC_000004.12:g.69112090T>A, 58882597...  \n",
       "3  NC_000004.11:g.130165464=, NC_000004.12:g.1292...  \n",
       "4  10008257, NC_000004.12:g.94435177=, rs10008257...  "
      ]
     },
     "execution_count": 2,
     "metadata": {},
     "output_type": "execute_result"
    }
   ],
   "source": [
    "# 读取基因变异与位点的映射关系\n",
    "df_variants = pd.read_csv('variants/variants.tsv', sep='\\t', error_bad_lines=False).fillna(\"\")\n",
    "df_variants = df_variants[[\"Variant ID\", \"Variant Name\", \"Gene Symbols\",\n",
    "                           \"Location\", \"Synonyms\"]]\n",
    "df_variants[:5]"
   ]
  },
  {
   "cell_type": "code",
   "execution_count": 3,
   "id": "0db62f97",
   "metadata": {},
   "outputs": [],
   "source": [
    "variant_gene_dict = defaultdict(list)\n",
    "gene_variant_dict = defaultdict(list)\n",
    "variant_synonym_dict = defaultdict(list)\n",
    "synonym_variant_dict = {}\n",
    "variant_location_dict = {}\n",
    "variant_location_matched_synonym_dict = defaultdict(list)\n",
    "variant_NG_synonym_dict = defaultdict(list)\n",
    "variant_NC_synonym_dict = defaultdict(list)\n",
    "variant_rs_synonym_dict = defaultdict(list\n",
    "                                     )\n",
    "for index, row in df_variants.iterrows():\n",
    "    variant = row[\"Variant Name\"]\n",
    "    gene = row[\"Gene Symbols\"]\n",
    "    synonym = row[\"Synonyms\"]\n",
    "    location = row[\"Location\"]\n",
    "    if location != \"\" and variant != \"\":\n",
    "        variant_location_dict[variant] = location\n",
    "    \n",
    "    if gene != \"\" and variant != \"\":\n",
    "        gene_list = [x.strip() for x in gene.split(\",\")]\n",
    "        variant_gene_dict[variant] = gene_list\n",
    "        for g in gene_list:\n",
    "            gene_variant_dict[g].append(variant)\n",
    "        \n",
    "    if variant != \"\" and synonym != \"\":\n",
    "        synonym_list = [x.strip() for x in synonym.split(\",\")]\n",
    "        variant_synonym_dict[variant] = synonym_list\n",
    "        for s in synonym_list:\n",
    "            synonym_variant_dict[s] = variant\n",
    "            if location != \"\" and location.split(\":\")[1] in s:\n",
    "                variant_location_matched_synonym_dict[variant].append(s)\n",
    "            if \"NG\" in s:\n",
    "                variant_NG_synonym_dict[variant].append(s)\n",
    "            if \"NC\" in s:\n",
    "                variant_NC_synonym_dict[variant].append(s)\n",
    "            if \"rs\" in s:\n",
    "                variant_rs_synonym_dict[variant].append(s)"
   ]
  },
  {
   "cell_type": "code",
   "execution_count": 4,
   "id": "c704296a",
   "metadata": {},
   "outputs": [
    {
     "name": "stdout",
     "output_type": "stream",
     "text": [
      "[('ABCC5', ['rs1000002', 'rs10937158', 'rs1533682', 'rs2139560', 'rs2292997', 'rs2293001', 'rs3749438', 'rs3749442', 'rs3792581', 'rs3805111', 'rs4148557', 'rs4148572', 'rs562', 'rs8180093', 'rs939338', 'rs9838667']), ('IRGM', ['rs1000113']), ('UGT2B7', ['rs10006452', 'rs10028494', 'rs11931604', 'rs11940316', 'rs12233719', 'rs28365062', 'rs28365063', 'rs28375964', 'rs4292394', 'rs4455491', 'rs4554144', 'rs4587017', 'rs61361928', 'rs62296959', 'rs62298861', 'rs6600879', 'rs6600880', 'rs6600893', 'rs6851533', 'rs73823859', 'rs7438135', 'rs7438284', 'rs7439366', 'rs7662029', 'rs7668258', 'rs7668282']), ('RABEP1', ['rs1000940']), ('CAT', ['rs1001179', 'rs10836235'])]\n"
     ]
    },
    {
     "data": {
      "text/plain": [
       "1949"
      ]
     },
     "execution_count": 4,
     "metadata": {},
     "output_type": "execute_result"
    }
   ],
   "source": [
    "print(list(gene_variant_dict.items())[:5])\n",
    "len(gene_variant_dict)"
   ]
  },
  {
   "cell_type": "code",
   "execution_count": 5,
   "id": "fbf34fc2",
   "metadata": {},
   "outputs": [
    {
     "name": "stdout",
     "output_type": "stream",
     "text": [
      "[('rs1000002', ['ABCC5']), ('rs1000113', ['IRGM']), ('rs10006452', ['UGT2B7']), ('rs1000940', ['RABEP1']), ('rs1001179', ['CAT'])]\n"
     ]
    },
    {
     "data": {
      "text/plain": [
       "5815"
      ]
     },
     "execution_count": 5,
     "metadata": {},
     "output_type": "execute_result"
    }
   ],
   "source": [
    "print(list(variant_gene_dict.items())[:5])\n",
    "len(variant_gene_dict)"
   ]
  },
  {
   "cell_type": "code",
   "execution_count": 6,
   "id": "fa19757f",
   "metadata": {},
   "outputs": [
    {
     "name": "stdout",
     "output_type": "stream",
     "text": [
      "[('rs1000002', ['rs17623022', 'NG_047115.1:g.105031=', 'NC_000003.12:g.183917980C>T', 'rs1000002', '1000002', 'rs60664316', '386508637', 'NC_000003.12:g.183917980=', 'NG_047115.1:g.105031G>A', '17623022', 'rs386508637', 'NC_000003.11:g.183635768C>T', 'NC_000003.11:g.183635768=', '60664316']), ('rs1000113', ['1000113', 'NC_000005.9:g.150240076=', 'NC_000005.9:g.150240076C>T', '58108943', 'rs1000113', 'NC_000005.10:g.150860514=', 'rs58108943', 'NG_027809.2:g.18992=', 'NG_027809.2:g.18992C>T', 'NC_000005.10:g.150860514C>T', 'XM_011537641.1:c.531+11860C>T']), ('rs10006452', ['10006452', 'NC_000004.12:g.69112090T>A', '58882597', 'rs10006452', 'NC_000004.11:g.69977808T>C', 'NC_000004.11:g.69977808T>A', 'NC_000004.11:g.69977808=', 'NC_000004.12:g.69112090=', 'NC_000004.12:g.69112090T>C']), ('rs10007051', ['NC_000004.11:g.130165464=', 'NC_000004.12:g.129244309=', 'rs10007051', 'NC_000004.12:g.129244309C>T', 'NC_000004.11:g.130165464C>T', '10007051']), ('rs10008257', ['10008257', 'NC_000004.12:g.94435177=', 'rs10008257', 'rs60883953', 'NC_000004.11:g.95356328G>A', '60883953', 'NC_000004.11:g.95356328=', 'NC_000004.12:g.94435177G>A'])]\n"
     ]
    },
    {
     "data": {
      "text/plain": [
       "6400"
      ]
     },
     "execution_count": 6,
     "metadata": {},
     "output_type": "execute_result"
    }
   ],
   "source": [
    "print(list(variant_synonym_dict.items())[:5])\n",
    "len(variant_synonym_dict)"
   ]
  },
  {
   "cell_type": "code",
   "execution_count": 7,
   "id": "e8337b68",
   "metadata": {},
   "outputs": [
    {
     "name": "stdout",
     "output_type": "stream",
     "text": [
      "[('rs17623022', 'rs1000002'), ('NG_047115.1:g.105031=', 'rs1000002'), ('NC_000003.12:g.183917980C>T', 'rs1000002'), ('rs1000002', 'rs1000002'), ('1000002', 'rs1000002')]\n"
     ]
    },
    {
     "data": {
      "text/plain": [
       "118957"
      ]
     },
     "execution_count": 7,
     "metadata": {},
     "output_type": "execute_result"
    }
   ],
   "source": [
    "print(list(synonym_variant_dict.items())[:5])\n",
    "len(synonym_variant_dict)"
   ]
  },
  {
   "cell_type": "code",
   "execution_count": 8,
   "id": "b98026f1",
   "metadata": {},
   "outputs": [
    {
     "name": "stdout",
     "output_type": "stream",
     "text": [
      "[('rs1000002', 'NC_000003.12:183917980'), ('rs1000113', 'NC_000005.10:150860514'), ('rs10006452', 'NC_000004.12:69112090'), ('rs10007051', 'NC_000004.12:129244309'), ('rs10008257', 'NC_000004.12:94435177')]\n"
     ]
    },
    {
     "data": {
      "text/plain": [
       "6393"
      ]
     },
     "execution_count": 8,
     "metadata": {},
     "output_type": "execute_result"
    }
   ],
   "source": [
    "print(list(variant_location_dict.items())[:5])\n",
    "len(variant_location_dict)"
   ]
  },
  {
   "cell_type": "code",
   "execution_count": 9,
   "id": "e51b1081",
   "metadata": {},
   "outputs": [
    {
     "name": "stdout",
     "output_type": "stream",
     "text": [
      "[('rs1000002', ['NC_000003.12:g.183917980C>T', 'NC_000003.12:g.183917980=']), ('rs1000113', ['NC_000005.10:g.150860514=', 'NC_000005.10:g.150860514C>T']), ('rs10006452', ['NC_000004.12:g.69112090T>A', 'NC_000004.12:g.69112090=', 'NC_000004.12:g.69112090T>C']), ('rs10007051', ['NC_000004.12:g.129244309=', 'NC_000004.12:g.129244309C>T']), ('rs10008257', ['NC_000004.12:g.94435177=', 'NC_000004.12:g.94435177G>A'])]\n"
     ]
    },
    {
     "data": {
      "text/plain": [
       "6373"
      ]
     },
     "execution_count": 9,
     "metadata": {},
     "output_type": "execute_result"
    }
   ],
   "source": [
    "print(list(variant_location_matched_synonym_dict.items())[:5])\n",
    "len(variant_location_matched_synonym_dict)"
   ]
  },
  {
   "cell_type": "code",
   "execution_count": 10,
   "id": "49509b5e",
   "metadata": {},
   "outputs": [
    {
     "data": {
      "text/plain": [
       "['CFTR']"
      ]
     },
     "execution_count": 10,
     "metadata": {},
     "output_type": "execute_result"
    }
   ],
   "source": [
    "variant_gene_dict['rs75527207']"
   ]
  },
  {
   "cell_type": "code",
   "execution_count": 11,
   "id": "1ff9118d",
   "metadata": {},
   "outputs": [
    {
     "name": "stdout",
     "output_type": "stream",
     "text": [
      "[('rs1000002', ['NG_047115.1:g.105031=', 'NG_047115.1:g.105031G>A']), ('rs1000113', ['NG_027809.2:g.18992=', 'NG_027809.2:g.18992C>T']), ('rs1001179', ['NG_013339.1:g.4760=', 'NG_013339.2:g.4760C>T', 'NG_013339.1:g.4760C>T', 'NG_013339.2:g.4760=']), ('rs10011796', ['NG_032067.2:g.66598=', 'NG_032067.2:g.66598A>C', 'NG_032067.2:g.66598A>G']), ('rs10012', ['NG_008386.2:g.5855C>G', 'NG_008386.2:g.5855='])]\n"
     ]
    },
    {
     "data": {
      "text/plain": [
       "4515"
      ]
     },
     "execution_count": 11,
     "metadata": {},
     "output_type": "execute_result"
    }
   ],
   "source": [
    "print(list(variant_NG_synonym_dict.items())[:5])\n",
    "len(variant_NG_synonym_dict)"
   ]
  },
  {
   "cell_type": "code",
   "execution_count": 12,
   "id": "ddbe20b4",
   "metadata": {},
   "outputs": [
    {
     "name": "stdout",
     "output_type": "stream",
     "text": [
      "[('rs1000002', ['NC_000003.12:g.183917980C>T', 'NC_000003.12:g.183917980=', 'NC_000003.11:g.183635768C>T', 'NC_000003.11:g.183635768=']), ('rs1000113', ['NC_000005.9:g.150240076=', 'NC_000005.9:g.150240076C>T', 'NC_000005.10:g.150860514=', 'NC_000005.10:g.150860514C>T']), ('rs10006452', ['NC_000004.12:g.69112090T>A', 'NC_000004.11:g.69977808T>C', 'NC_000004.11:g.69977808T>A', 'NC_000004.11:g.69977808=', 'NC_000004.12:g.69112090=', 'NC_000004.12:g.69112090T>C']), ('rs10007051', ['NC_000004.11:g.130165464=', 'NC_000004.12:g.129244309=', 'NC_000004.12:g.129244309C>T', 'NC_000004.11:g.130165464C>T']), ('rs10008257', ['NC_000004.12:g.94435177=', 'NC_000004.11:g.95356328G>A', 'NC_000004.11:g.95356328=', 'NC_000004.12:g.94435177G>A'])]\n"
     ]
    },
    {
     "data": {
      "text/plain": [
       "6399"
      ]
     },
     "execution_count": 12,
     "metadata": {},
     "output_type": "execute_result"
    }
   ],
   "source": [
    "print(list(variant_NC_synonym_dict.items())[:5])\n",
    "len(variant_NC_synonym_dict)"
   ]
  },
  {
   "cell_type": "code",
   "execution_count": 13,
   "id": "1317d2db",
   "metadata": {},
   "outputs": [
    {
     "name": "stdout",
     "output_type": "stream",
     "text": [
      "[('rs1000002', ['rs17623022', 'rs1000002', 'rs60664316', 'rs386508637']), ('rs1000113', ['rs1000113', 'rs58108943']), ('rs10006452', ['rs10006452']), ('rs10007051', ['rs10007051']), ('rs10008257', ['rs10008257', 'rs60883953'])]\n"
     ]
    },
    {
     "data": {
      "text/plain": [
       "6394"
      ]
     },
     "execution_count": 13,
     "metadata": {},
     "output_type": "execute_result"
    }
   ],
   "source": [
    "print(list(variant_rs_synonym_dict.items())[:5])\n",
    "len(variant_rs_synonym_dict)"
   ]
  },
  {
   "cell_type": "code",
   "execution_count": 16,
   "id": "0e5ffced",
   "metadata": {},
   "outputs": [],
   "source": [
    "variant_dict = {\n",
    "    \"NC\": variant_NC_synonym_dict,\n",
    "    \"NG\": variant_NG_synonym_dict,\n",
    "    \"rsID\": variant_rs_synonym_dict\n",
    "}\n",
    "\n",
    "with open(\"json/variant_mapping.json\", \"w\") as f:\n",
    "    json.dump(variant_dict, f)"
   ]
  },
  {
   "cell_type": "code",
   "execution_count": null,
   "id": "6e318320",
   "metadata": {},
   "outputs": [],
   "source": []
  }
 ],
 "metadata": {
  "kernelspec": {
   "display_name": "Python 3",
   "language": "python",
   "name": "python3"
  },
  "language_info": {
   "codemirror_mode": {
    "name": "ipython",
    "version": 3
   },
   "file_extension": ".py",
   "mimetype": "text/x-python",
   "name": "python",
   "nbconvert_exporter": "python",
   "pygments_lexer": "ipython3",
   "version": "3.6.13"
  }
 },
 "nbformat": 4,
 "nbformat_minor": 5
}
