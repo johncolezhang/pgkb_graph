{
 "cells": [
  {
   "cell_type": "code",
   "execution_count": 1,
   "id": "97cc5867",
   "metadata": {},
   "outputs": [],
   "source": [
    "import pandas as pd\n",
    "import sys\n",
    "import numpy as np"
   ]
  },
  {
   "cell_type": "code",
   "execution_count": 2,
   "id": "b713fbc7",
   "metadata": {},
   "outputs": [],
   "source": [
    "df_node = pd.read_csv(\"train/node.csv\", dtype=str)\n",
    "df_relation = pd.read_csv(\"train/relation.csv\", dtype=str)\n",
    "df_triple = pd.read_csv(\"train/triple.csv\", dtype=str)"
   ]
  },
  {
   "cell_type": "code",
   "execution_count": 7,
   "id": "038721c8",
   "metadata": {},
   "outputs": [
    {
     "name": "stdout",
     "output_type": "stream",
     "text": [
      "triple count: 262019\n"
     ]
    }
   ],
   "source": [
    "triple_list = df_triple.values.tolist()\n",
    "triple_count = len(df_triple)\n",
    "print(\"triple count: {}\".format(triple_count))"
   ]
  },
  {
   "cell_type": "code",
   "execution_count": 16,
   "id": "45b29e0c",
   "metadata": {},
   "outputs": [],
   "source": [
    "seed = np.arange(triple_count)\n",
    "np.random.shuffle(seed)\n",
    "\n",
    "train_count = int(triple_count * 0.9)\n",
    "valid_count = int(triple_count * 0.05)\n",
    "train_index = seed[:train_count].tolist()\n",
    "valid_index = seed[train_count:train_count+valid_count].tolist()\n",
    "test_index = seed[train_count+valid_count:].tolist()"
   ]
  },
  {
   "cell_type": "code",
   "execution_count": 17,
   "id": "98771aea",
   "metadata": {},
   "outputs": [],
   "source": [
    "with open(\"train/dglke_train.tsv\", \"w+\") as f:\n",
    "    for index in train_index:\n",
    "        f.writelines(\"{}\\t{}\\t{}\\n\".format(triple_list[index][0], triple_list[index][1], triple_list[index][2]))\n",
    "        \n",
    "with open(\"train/dglke_valid.tsv\", \"w+\") as f:\n",
    "    for index in valid_index:\n",
    "        f.writelines(\"{}\\t{}\\t{}\\n\".format(triple_list[index][0], triple_list[index][1], triple_list[index][2]))\n",
    "        \n",
    "with open(\"train/dglke_test.tsv\", \"w+\") as f:\n",
    "    for index in test_index:\n",
    "        f.writelines(\"{}\\t{}\\t{}\\n\".format(triple_list[index][0], triple_list[index][1], triple_list[index][2]))\n"
   ]
  },
  {
   "cell_type": "markdown",
   "id": "c62d119f",
   "metadata": {},
   "source": [
    "dglke_train --dataset pgkb --data_path ./train --data_files dglke_train.tsv dglke_valid.tsv dglke_test.tsv --format raw_udd_hrt --model_name TransE_l2 --batch_size 2048 --neg_sample_size 256 --hidden_dim 400 --gamma 12.0 --lr 0.1 --max_step 100000 --log_interval 1000 --batch_size_eval 16 -adv --regularization_coef 1.00E-07 --test --num_thread 1 --num_proc 1 --neg_sample_size_eval 10000 --async_update"
   ]
  },
  {
   "cell_type": "code",
   "execution_count": 2,
   "id": "2378b1fc",
   "metadata": {},
   "outputs": [],
   "source": [
    "node_embedding = np.load(\"ckpts/TransE_l2_pgkb_5/pgkb_TransE_l2_entity.npy\")\n",
    "relation_embedding = np.load(\"ckpts/TransE_l2_pgkb_5/pgkb_TransE_l2_relation.npy\")"
   ]
  },
  {
   "cell_type": "code",
   "execution_count": 3,
   "id": "5754a675",
   "metadata": {},
   "outputs": [
    {
     "name": "stdout",
     "output_type": "stream",
     "text": [
      "(81510, 400)\n",
      "(14, 400)\n"
     ]
    }
   ],
   "source": [
    "print(node_embedding.shape)\n",
    "print(relation_embedding.shape)"
   ]
  },
  {
   "cell_type": "code",
   "execution_count": 5,
   "id": "a4f24eec",
   "metadata": {},
   "outputs": [],
   "source": [
    "df_entity_idx = pd.read_csv(\"train/entities.tsv\", sep=\"\\t\", header=None, names=[\"idx\", \"entity_id\"], dtype=str).fillna(\"\")\n",
    "df_node = pd.read_csv(\"train/node.csv\", dtype=str).fillna(\"\")"
   ]
  },
  {
   "cell_type": "code",
   "execution_count": 6,
   "id": "78b91d98",
   "metadata": {},
   "outputs": [],
   "source": [
    "df_entity = pd.merge(df_entity_idx, df_node, how=\"left\", left_on=[\"entity_id\"], right_on=[\"node_id\"])"
   ]
  },
  {
   "cell_type": "code",
   "execution_count": 8,
   "id": "88f7163f",
   "metadata": {},
   "outputs": [],
   "source": [
    "drug_id_entity_dict = {}\n",
    "drug_idx_id_dict = {}\n",
    "count = 0\n",
    "for index, row in df_entity.iterrows():\n",
    "    if row[\"labels\"] == \"chemical\":\n",
    "        drug_id_entity_dict[row[\"idx\"]] = [row[\"entity_id\"], row[\"name\"], row[\"labels\"]]\n",
    "        drug_idx_id_dict[count] = row[\"idx\"]\n",
    "        count += 1"
   ]
  },
  {
   "cell_type": "code",
   "execution_count": 4,
   "id": "99955ec7",
   "metadata": {},
   "outputs": [],
   "source": [
    "from sklearn.metrics.pairwise import cosine_similarity"
   ]
  },
  {
   "cell_type": "code",
   "execution_count": 9,
   "id": "c52887cf",
   "metadata": {},
   "outputs": [
    {
     "data": {
      "text/plain": [
       "947"
      ]
     },
     "execution_count": 9,
     "metadata": {},
     "output_type": "execute_result"
    }
   ],
   "source": [
    "len(drug_id_entity_dict)"
   ]
  },
  {
   "cell_type": "code",
   "execution_count": 10,
   "id": "e7c05d82",
   "metadata": {},
   "outputs": [],
   "source": [
    "select_list = []\n",
    "for key in drug_id_entity_dict.keys():\n",
    "    select_list.append(node_embedding[int(key)])\n",
    "select_embedding = np.array(select_list)"
   ]
  },
  {
   "cell_type": "code",
   "execution_count": 11,
   "id": "108e42d1",
   "metadata": {},
   "outputs": [],
   "source": [
    "drug_similarity = cosine_similarity(select_embedding)"
   ]
  },
  {
   "cell_type": "code",
   "execution_count": 12,
   "id": "d073ae76",
   "metadata": {
    "scrolled": true
   },
   "outputs": [
    {
     "data": {
      "text/plain": [
       "(947, 947)"
      ]
     },
     "execution_count": 12,
     "metadata": {},
     "output_type": "execute_result"
    }
   ],
   "source": [
    "drug_similarity.shape"
   ]
  },
  {
   "cell_type": "code",
   "execution_count": 13,
   "id": "750012a7",
   "metadata": {},
   "outputs": [],
   "source": [
    "result_dict = {}\n",
    "for idx in range(drug_similarity.shape[0]):\n",
    "    sort_list = sorted([[i, x] for i, x in enumerate(drug_similarity[idx])], key=lambda x: x[1], reverse=True)\n",
    "    sort_list = list(filter(lambda x: x[0] != idx, sort_list))\n",
    "    sort_list = list(map(lambda x: [drug_idx_id_dict[x[0]], x[1]], sort_list))[:3]\n",
    "    result_dict[drug_idx_id_dict[idx]] = sort_list"
   ]
  },
  {
   "cell_type": "code",
   "execution_count": 14,
   "id": "74252829",
   "metadata": {},
   "outputs": [],
   "source": [
    "drug_list = []\n",
    "drug_match_list = []\n",
    "score_match_list = []\n",
    "for key, value in result_dict.items():\n",
    "    drug = drug_id_entity_dict[key][1]\n",
    "    md_list = []\n",
    "    ms_list = []\n",
    "    for val in value:\n",
    "        matched_drug = drug_id_entity_dict[val[0]][1]\n",
    "        match_score = val[1]\n",
    "        md_list.append(matched_drug)\n",
    "        ms_list.append(match_score)\n",
    "    drug_match_list.extend(md_list)\n",
    "    score_match_list.extend(ms_list)\n",
    "    drug_list.extend([drug] * len(md_list))"
   ]
  },
  {
   "cell_type": "code",
   "execution_count": 19,
   "id": "c9b2e1d5",
   "metadata": {},
   "outputs": [],
   "source": [
    "# for chemical\n",
    "df_match = pd.DataFrame({\n",
    "    \"chemical\": drug_list,\n",
    "    \"matched_chemical\": drug_match_list,\n",
    "    \"score\": score_match_list\n",
    "}) # .to_csv(\"chemical_similarity.csv\", index=False)"
   ]
  },
  {
   "cell_type": "code",
   "execution_count": null,
   "id": "64d93460",
   "metadata": {
    "scrolled": true
   },
   "outputs": [],
   "source": []
  },
  {
   "cell_type": "code",
   "execution_count": 89,
   "id": "47e7c116",
   "metadata": {},
   "outputs": [],
   "source": [
    "# for drug\n",
    "df_match = pd.DataFrame({\n",
    "    \"drug\": drug_list,\n",
    "    \"matched_drug\": drug_match_list,\n",
    "    \"score\": score_match_list\n",
    "}) # .to_csv(\"drug_similarity.csv\", index=False)"
   ]
  },
  {
   "cell_type": "code",
   "execution_count": null,
   "id": "7de3b976",
   "metadata": {},
   "outputs": [],
   "source": []
  },
  {
   "cell_type": "code",
   "execution_count": 21,
   "id": "50b0cef8",
   "metadata": {},
   "outputs": [],
   "source": [
    "from py2neo import Graph \n",
    "session = Graph(\"neo4j://172.16.227.27:7687\", auth=(\"neo4j\", \"123456\"))"
   ]
  },
  {
   "cell_type": "code",
   "execution_count": 95,
   "id": "4edac723",
   "metadata": {},
   "outputs": [],
   "source": [
    "# 药物链路 相同化合物\n",
    "link_template = \"\"\"\n",
    "match (d1:drug {display: \"氟哌啶醇注射液\"})-[r]->(n:disease)<-[]-(d2:drug {display: \"氟哌啶醇片\"})\n",
    "return d1.display as drug_name_1, n.display as link_node_name, labels(n)[0] as link_node_label, d2.display as drug_name_2\n",
    "union\n",
    "match (d1:drug {display: \"氟哌啶醇注射液\"})<-[]-(n:chemical)-[]->(d2:drug {display: \"氟哌啶醇片\"})\n",
    "return d1.display as drug_name_1, n.display as link_node_name, labels(n)[0] as link_node_label, d2.display as drug_name_2\n",
    "\"\"\"\n",
    "\n",
    "result_list = session.run(link_template).data()\n",
    "df_link = pd.DataFrame(result_list)"
   ]
  },
  {
   "cell_type": "code",
   "execution_count": 103,
   "id": "2e477226",
   "metadata": {},
   "outputs": [],
   "source": [
    "stats_dict = {}\n",
    "for index, row in df_link.groupby([\"link_node_label\"])[\"link_node_name\"].count().reset_index().iterrows():\n",
    "    if row[\"link_node_label\"] == \"chemical\":\n",
    "        stats_dict[\"common_chemical_count\"] = row[\"link_node_name\"]\n",
    "    if row[\"link_node_label\"] == \"disease\":\n",
    "        stats_dict[\"common_indication_count\"] = row[\"link_node_name\"]"
   ]
  },
  {
   "cell_type": "code",
   "execution_count": 104,
   "id": "28862137",
   "metadata": {},
   "outputs": [
    {
     "data": {
      "text/plain": [
       "{'common_chemical': 1, 'common_indication': 22}"
      ]
     },
     "execution_count": 104,
     "metadata": {},
     "output_type": "execute_result"
    }
   ],
   "source": [
    "stats_dict"
   ]
  },
  {
   "cell_type": "code",
   "execution_count": 115,
   "id": "fb9d6284",
   "metadata": {},
   "outputs": [],
   "source": [
    "indication_link_list = []\n",
    "for index, row in df_link[df_link[\"link_node_label\"] == \"disease\"].iterrows():\n",
    "    indication_link_list.append(\"{}-[适应症]->{}<-[适应症]-{}\".format(\n",
    "        row[\"drug_name_1\"], row[\"link_node_name\"], row[\"drug_name_2\"]\n",
    "    ))"
   ]
  },
  {
   "cell_type": "code",
   "execution_count": 113,
   "id": "f1e1101c",
   "metadata": {},
   "outputs": [],
   "source": [
    "chemical_link_list = []\n",
    "for index, row in df_link[df_link[\"link_node_label\"] == \"chemical\"].iterrows():\n",
    "    chemical_link_list.append(\"{}-[化合物]->{}<-[化合物]-{}\".format(\n",
    "        row[\"drug_name_1\"], row[\"link_node_name\"], row[\"drug_name_2\"]\n",
    "    ))"
   ]
  },
  {
   "cell_type": "code",
   "execution_count": 114,
   "id": "3ddef340",
   "metadata": {},
   "outputs": [
    {
     "data": {
      "text/plain": [
       "['氟哌啶醇注射液-[化合物]->haloperidol<-[化合物]-氟哌啶醇片']"
      ]
     },
     "execution_count": 114,
     "metadata": {},
     "output_type": "execute_result"
    }
   ],
   "source": [
    "chemical_link_list"
   ]
  },
  {
   "cell_type": "code",
   "execution_count": 124,
   "id": "bc49368e",
   "metadata": {},
   "outputs": [],
   "source": [
    "link_template = \"\"\"\n",
    "match (d1:drug {{display: \"{d1}\"}})-[]->(n:disease)<-[]-(d2:drug {{display: \"{d2}\"}})\n",
    "return d1.display as drug_name_1, n.display as link_node_name, labels(n)[0] as link_node_label, d2.display as drug_name_2\n",
    "union\n",
    "match (d1:drug {{display: \"{d1}\"}})<-[]-(n:chemical)-[]->(d2:drug {{display: \"{d2}\"}})\n",
    "return d1.display as drug_name_1, n.display as link_node_name, labels(n)[0] as link_node_label, d2.display as drug_name_2\n",
    "\"\"\"\n",
    "\n",
    "common_chemical_count_list = []\n",
    "common_indication_count_list = []\n",
    "indication_links = []\n",
    "chemical_links = []\n",
    "\n",
    "for index, row in df_match.iterrows():\n",
    "    link_query = link_template.format(d1=row[\"drug\"], d2=row[\"matched_drug\"])\n",
    "    result_list = session.run(link_query).data()\n",
    "    df_link = pd.DataFrame(result_list)\n",
    "    chemical_count = 0\n",
    "    indication_count = 0\n",
    "    try:\n",
    "        for index, row in df_link.groupby([\"link_node_label\"])[\"link_node_name\"].count().reset_index().iterrows():\n",
    "            if row[\"link_node_label\"] == \"chemical\":\n",
    "                chemical_count = row[\"link_node_name\"]\n",
    "            if row[\"link_node_label\"] == \"disease\":\n",
    "                indication_count = row[\"link_node_name\"]\n",
    "    except:\n",
    "        pass\n",
    "    \n",
    "    common_chemical_count_list.append(chemical_count)\n",
    "    common_indication_count_list.append(indication_count)\n",
    "            \n",
    "    indication_link_list = []\n",
    "    try:\n",
    "        for index, row in df_link[df_link[\"link_node_label\"] == \"disease\"].iterrows():\n",
    "            indication_link_list.append(\"{}-[适应症]->{}<-[适应症]-{}\".format(\n",
    "                row[\"drug_name_1\"], row[\"link_node_name\"], row[\"drug_name_2\"]\n",
    "            ))\n",
    "    except:\n",
    "        pass\n",
    "    indication_links.append(\"\\n\".join(indication_link_list))\n",
    "        \n",
    "    chemical_link_list = []\n",
    "    try:\n",
    "        for index, row in df_link[df_link[\"link_node_label\"] == \"chemical\"].iterrows():\n",
    "            chemical_link_list.append(\"{}-[化合物]->{}<-[化合物]-{}\".format(\n",
    "                row[\"drug_name_1\"], row[\"link_node_name\"], row[\"drug_name_2\"]\n",
    "            ))\n",
    "    except:\n",
    "        pass\n",
    "    chemical_links.append(\"\\n\".join(chemical_link_list))"
   ]
  },
  {
   "cell_type": "code",
   "execution_count": 128,
   "id": "c2b463c3",
   "metadata": {},
   "outputs": [],
   "source": [
    "df_match = df_match.assign(common_chemical_count=common_chemical_count_list)\n",
    "df_match = df_match.assign(common_indication_count=common_indication_count_list)\n",
    "chemical_links = [x.replace(\"\\n\", \" | \") for x in chemical_links]\n",
    "indication_links = [x.replace(\"\\n\", \" | \") for x in indication_links]\n",
    "df_match = df_match.assign(chemical_link=chemical_links)\n",
    "df_match = df_match.assign(indication_link=indication_links)"
   ]
  },
  {
   "cell_type": "code",
   "execution_count": 129,
   "id": "caef6480",
   "metadata": {},
   "outputs": [],
   "source": [
    "df_match.to_csv(\"similar_drug_and_link.csv\", index=False)"
   ]
  },
  {
   "cell_type": "code",
   "execution_count": null,
   "id": "a8205414",
   "metadata": {},
   "outputs": [],
   "source": []
  },
  {
   "cell_type": "code",
   "execution_count": 70,
   "id": "3e2f3172",
   "metadata": {},
   "outputs": [],
   "source": [
    "# 相似化合物链路\n",
    "# 相同影响基因\n",
    "link_template = \"\"\"\n",
    "match (c1:chemical {{display: \"{c1}\"}})<-[]-(ge:gene)-[]->(c2:chemical {{display: \"{c2}\"}})\n",
    "return c1.display as chemical_name_1, ge.display as gene_name, c2.display as chemical_name_2\n",
    "\"\"\"\n",
    "\n",
    "common_gene_count_list = []\n",
    "gene_links = []\n",
    "\n",
    "for index, row in df_match.iterrows():\n",
    "    link_query = link_template.format(c1=row[\"chemical\"], c2=row[\"matched_chemical\"])\n",
    "    result_list = session.run(link_query).data()\n",
    "    df_link = pd.DataFrame(result_list)\n",
    "#     gene_count = 0\n",
    "#     try:\n",
    "#         for index, row in df_link.groupby([\"gene_name\"])[\"gene_name\"].count().reset_index(name=\"count\").iterrows():\n",
    "#             gene_count = row[\"count\"]\n",
    "#     except:\n",
    "#         pass\n",
    "    \n",
    "#     common_gene_count_list.append(gene_count)\n",
    "        \n",
    "    gene_link_list = []\n",
    "    try:\n",
    "        for index, row in df_link.iterrows():\n",
    "            gene_link_list.append(row[\"gene_name\"])\n",
    "    except:\n",
    "        pass\n",
    "    common_gene_count_list.append(len(set(gene_link_list)))\n",
    "    gene_links.append(\" | \".join(set(gene_link_list)))"
   ]
  },
  {
   "cell_type": "code",
   "execution_count": 71,
   "id": "ed21202e",
   "metadata": {},
   "outputs": [],
   "source": [
    "df_match = df_match.assign(common_gene_count=common_gene_count_list)\n",
    "df_match = df_match.assign(gene_link=gene_links)"
   ]
  },
  {
   "cell_type": "code",
   "execution_count": 72,
   "id": "99d8bc59",
   "metadata": {
    "scrolled": true
   },
   "outputs": [
    {
     "name": "stdout",
     "output_type": "stream",
     "text": [
      "{'isatuximab-irfc', 'lenalidomide', 'duvelisib', 'vardenafil', 'ibrutinib', 'desloratadine', 'lenvatinib', 'sildenafil', 'crizanlizumab-tmca'}\n"
     ]
    }
   ],
   "source": [
    "# check empty gene name\n",
    "df_match.to_csv(\"similar_chemical_and_link.csv\", index=False)\n",
    "df = pd.read_csv(\"processed/drug_gene_label.csv\").fillna(\"\")\n",
    "print(set(df[df[\"gene\"] == \"\"][\"drug\"].values))"
   ]
  },
  {
   "cell_type": "code",
   "execution_count": 73,
   "id": "5e3337f7",
   "metadata": {},
   "outputs": [],
   "source": [
    "empty_drug = ['isatuximab-irfc', 'lenalidomide', 'duvelisib', \n",
    "              'vardenafil', 'ibrutinib', 'desloratadine', \n",
    "              'lenvatinib', 'sildenafil', 'crizanlizumab-tmca']\n",
    "\n",
    "df_match[(~df_match.chemical.isin(empty_drug) & ~df_match.matched_chemical.isin(empty_drug))\n",
    "        ].to_csv(\"similar_chemical_and_link.csv\", index=False)"
   ]
  },
  {
   "cell_type": "code",
   "execution_count": null,
   "id": "770996c2",
   "metadata": {},
   "outputs": [],
   "source": []
  },
  {
   "cell_type": "code",
   "execution_count": 74,
   "id": "f1b5f017",
   "metadata": {},
   "outputs": [
    {
     "data": {
      "text/html": [
       "<div>\n",
       "<style scoped>\n",
       "    .dataframe tbody tr th:only-of-type {\n",
       "        vertical-align: middle;\n",
       "    }\n",
       "\n",
       "    .dataframe tbody tr th {\n",
       "        vertical-align: top;\n",
       "    }\n",
       "\n",
       "    .dataframe thead th {\n",
       "        text-align: right;\n",
       "    }\n",
       "</style>\n",
       "<table border=\"1\" class=\"dataframe\">\n",
       "  <thead>\n",
       "    <tr style=\"text-align: right;\">\n",
       "      <th></th>\n",
       "      <th>chemical</th>\n",
       "      <th>matched_chemical</th>\n",
       "      <th>score</th>\n",
       "      <th>common_gene_count</th>\n",
       "      <th>gene_link</th>\n",
       "    </tr>\n",
       "  </thead>\n",
       "  <tbody>\n",
       "    <tr>\n",
       "      <th>0</th>\n",
       "      <td>amikacin</td>\n",
       "      <td>paromomycin</td>\n",
       "      <td>0.639231</td>\n",
       "      <td>1</td>\n",
       "      <td>MT-RNR1</td>\n",
       "    </tr>\n",
       "    <tr>\n",
       "      <th>1</th>\n",
       "      <td>amikacin</td>\n",
       "      <td>plazomicin</td>\n",
       "      <td>0.628835</td>\n",
       "      <td>1</td>\n",
       "      <td>MT-RNR1</td>\n",
       "    </tr>\n",
       "    <tr>\n",
       "      <th>2</th>\n",
       "      <td>amikacin</td>\n",
       "      <td>streptomycin</td>\n",
       "      <td>0.565314</td>\n",
       "      <td>1</td>\n",
       "      <td>MT-RNR1</td>\n",
       "    </tr>\n",
       "    <tr>\n",
       "      <th>3</th>\n",
       "      <td>nitrofurantoin</td>\n",
       "      <td>mefloquine</td>\n",
       "      <td>0.610967</td>\n",
       "      <td>1</td>\n",
       "      <td>G6PD</td>\n",
       "    </tr>\n",
       "    <tr>\n",
       "      <th>4</th>\n",
       "      <td>nitrofurantoin</td>\n",
       "      <td>phenazopyridine</td>\n",
       "      <td>0.502346</td>\n",
       "      <td>1</td>\n",
       "      <td>G6PD</td>\n",
       "    </tr>\n",
       "    <tr>\n",
       "      <th>...</th>\n",
       "      <td>...</td>\n",
       "      <td>...</td>\n",
       "      <td>...</td>\n",
       "      <td>...</td>\n",
       "      <td>...</td>\n",
       "    </tr>\n",
       "    <tr>\n",
       "      <th>2809</th>\n",
       "      <td>risdiplam</td>\n",
       "      <td>olaratumab</td>\n",
       "      <td>0.328720</td>\n",
       "      <td>0</td>\n",
       "      <td></td>\n",
       "    </tr>\n",
       "    <tr>\n",
       "      <th>2810</th>\n",
       "      <td>risdiplam</td>\n",
       "      <td>eletriptan</td>\n",
       "      <td>0.313001</td>\n",
       "      <td>0</td>\n",
       "      <td></td>\n",
       "    </tr>\n",
       "    <tr>\n",
       "      <th>2811</th>\n",
       "      <td>acetaminophen; tramadol</td>\n",
       "      <td>olaratumab</td>\n",
       "      <td>0.484772</td>\n",
       "      <td>0</td>\n",
       "      <td></td>\n",
       "    </tr>\n",
       "    <tr>\n",
       "      <th>2812</th>\n",
       "      <td>acetaminophen; tramadol</td>\n",
       "      <td>eletriptan</td>\n",
       "      <td>0.399291</td>\n",
       "      <td>1</td>\n",
       "      <td>CYP2D6</td>\n",
       "    </tr>\n",
       "    <tr>\n",
       "      <th>2813</th>\n",
       "      <td>acetaminophen; tramadol</td>\n",
       "      <td>mipomersen</td>\n",
       "      <td>0.394537</td>\n",
       "      <td>0</td>\n",
       "      <td></td>\n",
       "    </tr>\n",
       "  </tbody>\n",
       "</table>\n",
       "<p>2814 rows × 5 columns</p>\n",
       "</div>"
      ],
      "text/plain": [
       "                     chemical matched_chemical     score  common_gene_count  \\\n",
       "0                    amikacin      paromomycin  0.639231                  1   \n",
       "1                    amikacin       plazomicin  0.628835                  1   \n",
       "2                    amikacin     streptomycin  0.565314                  1   \n",
       "3              nitrofurantoin       mefloquine  0.610967                  1   \n",
       "4              nitrofurantoin  phenazopyridine  0.502346                  1   \n",
       "...                       ...              ...       ...                ...   \n",
       "2809                risdiplam       olaratumab  0.328720                  0   \n",
       "2810                risdiplam       eletriptan  0.313001                  0   \n",
       "2811  acetaminophen; tramadol       olaratumab  0.484772                  0   \n",
       "2812  acetaminophen; tramadol       eletriptan  0.399291                  1   \n",
       "2813  acetaminophen; tramadol       mipomersen  0.394537                  0   \n",
       "\n",
       "     gene_link  \n",
       "0      MT-RNR1  \n",
       "1      MT-RNR1  \n",
       "2      MT-RNR1  \n",
       "3         G6PD  \n",
       "4         G6PD  \n",
       "...        ...  \n",
       "2809            \n",
       "2810            \n",
       "2811            \n",
       "2812    CYP2D6  \n",
       "2813            \n",
       "\n",
       "[2814 rows x 5 columns]"
      ]
     },
     "execution_count": 74,
     "metadata": {},
     "output_type": "execute_result"
    }
   ],
   "source": [
    "pd.read_csv(\"similar_chemical_and_link.csv\").fillna(\"\")"
   ]
  },
  {
   "cell_type": "code",
   "execution_count": null,
   "id": "29a8d4eb",
   "metadata": {},
   "outputs": [],
   "source": []
  }
 ],
 "metadata": {
  "kernelspec": {
   "display_name": "Python 3",
   "language": "python",
   "name": "python3"
  },
  "language_info": {
   "codemirror_mode": {
    "name": "ipython",
    "version": 3
   },
   "file_extension": ".py",
   "mimetype": "text/x-python",
   "name": "python",
   "nbconvert_exporter": "python",
   "pygments_lexer": "ipython3",
   "version": "3.6.13"
  }
 },
 "nbformat": 4,
 "nbformat_minor": 5
}
