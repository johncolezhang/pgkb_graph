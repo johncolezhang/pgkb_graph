{
 "cells": [
  {
   "cell_type": "code",
   "execution_count": 1,
   "id": "97cc5867",
   "metadata": {},
   "outputs": [],
   "source": [
    "import pandas as pd\n",
    "import sys\n",
    "import numpy as np"
   ]
  },
  {
   "cell_type": "code",
   "execution_count": 2,
   "id": "b713fbc7",
   "metadata": {},
   "outputs": [],
   "source": [
    "df_node = pd.read_csv(\"train/node.csv\", dtype=str)\n",
    "df_relation = pd.read_csv(\"train/relation.csv\", dtype=str)\n",
    "df_triple = pd.read_csv(\"train/triple.csv\", dtype=str)"
   ]
  },
  {
   "cell_type": "code",
   "execution_count": 7,
   "id": "038721c8",
   "metadata": {},
   "outputs": [
    {
     "name": "stdout",
     "output_type": "stream",
     "text": [
      "triple count: 262019\n"
     ]
    }
   ],
   "source": [
    "triple_list = df_triple.values.tolist()\n",
    "triple_count = len(df_triple)\n",
    "print(\"triple count: {}\".format(triple_count))"
   ]
  },
  {
   "cell_type": "code",
   "execution_count": 16,
   "id": "45b29e0c",
   "metadata": {},
   "outputs": [],
   "source": [
    "seed = np.arange(triple_count)\n",
    "np.random.shuffle(seed)\n",
    "\n",
    "train_count = int(triple_count * 0.9)\n",
    "valid_count = int(triple_count * 0.05)\n",
    "train_index = seed[:train_count].tolist()\n",
    "valid_index = seed[train_count:train_count+valid_count].tolist()\n",
    "test_index = seed[train_count+valid_count:].tolist()"
   ]
  },
  {
   "cell_type": "code",
   "execution_count": 17,
   "id": "98771aea",
   "metadata": {},
   "outputs": [],
   "source": [
    "with open(\"train/dglke_train.tsv\", \"w+\") as f:\n",
    "    for index in train_index:\n",
    "        f.writelines(\"{}\\t{}\\t{}\\n\".format(triple_list[index][0], triple_list[index][1], triple_list[index][2]))\n",
    "        \n",
    "with open(\"train/dglke_valid.tsv\", \"w+\") as f:\n",
    "    for index in valid_index:\n",
    "        f.writelines(\"{}\\t{}\\t{}\\n\".format(triple_list[index][0], triple_list[index][1], triple_list[index][2]))\n",
    "        \n",
    "with open(\"train/dglke_test.tsv\", \"w+\") as f:\n",
    "    for index in test_index:\n",
    "        f.writelines(\"{}\\t{}\\t{}\\n\".format(triple_list[index][0], triple_list[index][1], triple_list[index][2]))\n"
   ]
  },
  {
   "cell_type": "markdown",
   "id": "c62d119f",
   "metadata": {},
   "source": [
    "dglke_train --dataset pgkb --data_path ./train --data_files dglke_train.tsv dglke_valid.tsv dglke_test.tsv --format raw_udd_hrt --model_name TransE_l2 --batch_size 2048 --neg_sample_size 256 --hidden_dim 400 --gamma 12.0 --lr 0.1 --max_step 100000 --log_interval 1000 --batch_size_eval 16 -adv --regularization_coef 1.00E-07 --test --num_thread 1 --num_proc 1 --neg_sample_size_eval 10000 --async_update"
   ]
  },
  {
   "cell_type": "code",
   "execution_count": 2,
   "id": "2378b1fc",
   "metadata": {},
   "outputs": [],
   "source": [
    "node_embedding = np.load(\"ckpts/TransE_l2_pgkb_5/pgkb_TransE_l2_entity.npy\")\n",
    "relation_embedding = np.load(\"ckpts/TransE_l2_pgkb_5/pgkb_TransE_l2_relation.npy\")"
   ]
  },
  {
   "cell_type": "code",
   "execution_count": 3,
   "id": "5754a675",
   "metadata": {},
   "outputs": [
    {
     "name": "stdout",
     "output_type": "stream",
     "text": [
      "(81510, 400)\n",
      "(14, 400)\n"
     ]
    }
   ],
   "source": [
    "print(node_embedding.shape)\n",
    "print(relation_embedding.shape)"
   ]
  },
  {
   "cell_type": "code",
   "execution_count": 4,
   "id": "caca3cf7",
   "metadata": {},
   "outputs": [
    {
     "data": {
      "text/plain": [
       "array([[-0.25426614,  0.70644957, -0.27191836, ...,  0.89812595,\n",
       "         0.46692854,  0.32273653],\n",
       "       [-0.05132748,  0.07197798, -0.34075344, ...,  0.52072155,\n",
       "        -0.11162469, -0.46548358],\n",
       "       [ 0.31897926, -0.68682486, -0.59711933, ..., -0.62291443,\n",
       "         0.09369897,  0.42894498],\n",
       "       ...,\n",
       "       [ 0.5190772 ,  0.36109135, -0.49053636, ...,  0.39061296,\n",
       "        -0.41722012,  0.41264433],\n",
       "       [-0.4263142 ,  0.23674169, -0.5240198 , ..., -0.51616716,\n",
       "         0.4771007 , -0.53949714],\n",
       "       [-0.33942884, -0.53039414, -0.5396247 , ..., -0.5277652 ,\n",
       "         0.4809796 , -0.5057551 ]], dtype=float32)"
      ]
     },
     "execution_count": 4,
     "metadata": {},
     "output_type": "execute_result"
    }
   ],
   "source": [
    "node_embedding"
   ]
  },
  {
   "cell_type": "code",
   "execution_count": 5,
   "id": "a4f24eec",
   "metadata": {},
   "outputs": [],
   "source": [
    "df_entity_idx = pd.read_csv(\"train/entities.tsv\", sep=\"\\t\", header=None, names=[\"idx\", \"entity_id\"], dtype=str).fillna(\"\")\n",
    "df_node = pd.read_csv(\"train/node.csv\", dtype=str).fillna(\"\")"
   ]
  },
  {
   "cell_type": "code",
   "execution_count": 6,
   "id": "78b91d98",
   "metadata": {},
   "outputs": [],
   "source": [
    "df_entity = pd.merge(df_entity_idx, df_node, how=\"left\", left_on=[\"entity_id\"], right_on=[\"node_id\"])"
   ]
  },
  {
   "cell_type": "code",
   "execution_count": 28,
   "id": "88f7163f",
   "metadata": {},
   "outputs": [],
   "source": [
    "drug_id_entity_dict = {}\n",
    "drug_idx_id_dict = {}\n",
    "count = 0\n",
    "for index, row in df_entity.iterrows():\n",
    "    if row[\"labels\"] == \"drug\":\n",
    "        drug_id_entity_dict[row[\"idx\"]] = [row[\"entity_id\"], row[\"name\"], row[\"labels\"]]\n",
    "        drug_idx_id_dict[count] = row[\"idx\"]\n",
    "        count += 1"
   ]
  },
  {
   "cell_type": "code",
   "execution_count": null,
   "id": "760d9d6d",
   "metadata": {},
   "outputs": [],
   "source": []
  },
  {
   "cell_type": "code",
   "execution_count": 87,
   "id": "99955ec7",
   "metadata": {},
   "outputs": [],
   "source": [
    "from sklearn.metrics.pairwise import cosine_similarity\n"
   ]
  },
  {
   "cell_type": "code",
   "execution_count": 22,
   "id": "c52887cf",
   "metadata": {},
   "outputs": [
    {
     "data": {
      "text/plain": [
       "5863"
      ]
     },
     "execution_count": 22,
     "metadata": {},
     "output_type": "execute_result"
    }
   ],
   "source": [
    "len(drug_id_entity_dict)"
   ]
  },
  {
   "cell_type": "code",
   "execution_count": 17,
   "id": "e7c05d82",
   "metadata": {},
   "outputs": [],
   "source": [
    "select_list = []\n",
    "for key in drug_id_entity_dict.keys():\n",
    "    select_list.append(node_embedding[int(key)])\n",
    "select_embedding = np.array(select_list)"
   ]
  },
  {
   "cell_type": "code",
   "execution_count": 19,
   "id": "108e42d1",
   "metadata": {},
   "outputs": [],
   "source": [
    "drug_similarity = cosine_similarity(select_embedding)"
   ]
  },
  {
   "cell_type": "code",
   "execution_count": 21,
   "id": "d073ae76",
   "metadata": {},
   "outputs": [
    {
     "data": {
      "text/plain": [
       "(5863, 5863)"
      ]
     },
     "execution_count": 21,
     "metadata": {},
     "output_type": "execute_result"
    }
   ],
   "source": [
    "drug_similarity.shape"
   ]
  },
  {
   "cell_type": "code",
   "execution_count": 81,
   "id": "750012a7",
   "metadata": {},
   "outputs": [],
   "source": [
    "result_dict = {}\n",
    "for idx in range(drug_similarity.shape[0]):\n",
    "    sort_list = sorted([[i, x] for i, x in enumerate(drug_similarity[idx])], key=lambda x: x[1], reverse=True)\n",
    "    sort_list = list(filter(lambda x: x[0] != idx, sort_list))\n",
    "    sort_list = list(map(lambda x: [drug_idx_id_dict[x[0]], x[1]], sort_list))[:3]\n",
    "    result_dict[drug_idx_id_dict[idx]] = sort_list"
   ]
  },
  {
   "cell_type": "code",
   "execution_count": null,
   "id": "76a143b5",
   "metadata": {},
   "outputs": [],
   "source": []
  },
  {
   "cell_type": "code",
   "execution_count": 82,
   "id": "c52de7e9",
   "metadata": {},
   "outputs": [
    {
     "data": {
      "text/plain": [
       "['64466', '阿昔莫司胶囊', 'drug']"
      ]
     },
     "execution_count": 82,
     "metadata": {},
     "output_type": "execute_result"
    }
   ],
   "source": [
    "drug_id_entity_dict[\"1829\"]"
   ]
  },
  {
   "cell_type": "code",
   "execution_count": 83,
   "id": "eb6616f7",
   "metadata": {},
   "outputs": [
    {
     "data": {
      "text/plain": [
       "['64465', '苯扎贝特片', 'drug']"
      ]
     },
     "execution_count": 83,
     "metadata": {},
     "output_type": "execute_result"
    }
   ],
   "source": [
    "drug_id_entity_dict[\"11163\"]"
   ]
  },
  {
   "cell_type": "code",
   "execution_count": 84,
   "id": "74252829",
   "metadata": {},
   "outputs": [],
   "source": [
    "drug_list = []\n",
    "drug_match_list = []\n",
    "score_match_list = []\n",
    "for key, value in result_dict.items():\n",
    "    drug = drug_id_entity_dict[key][1]\n",
    "    md_list = []\n",
    "    ms_list = []\n",
    "    for val in value:\n",
    "        matched_drug = drug_id_entity_dict[val[0]][1]\n",
    "        match_score = val[1]\n",
    "        md_list.append(matched_drug)\n",
    "        ms_list.append(match_score)\n",
    "    drug_match_list.extend(md_list)\n",
    "    score_match_list.extend(ms_list)\n",
    "    drug_list.extend([drug] * len(md_list))"
   ]
  },
  {
   "cell_type": "code",
   "execution_count": 89,
   "id": "47e7c116",
   "metadata": {},
   "outputs": [],
   "source": [
    "df_match = pd.DataFrame({\n",
    "    \"drug\": drug_list,\n",
    "    \"matched_drug\": drug_match_list,\n",
    "    \"score\": score_match_list\n",
    "}) # .to_csv(\"drug_similarity.csv\", index=False)"
   ]
  },
  {
   "cell_type": "code",
   "execution_count": 92,
   "id": "7de3b976",
   "metadata": {},
   "outputs": [
    {
     "data": {
      "text/html": [
       "<div>\n",
       "<style scoped>\n",
       "    .dataframe tbody tr th:only-of-type {\n",
       "        vertical-align: middle;\n",
       "    }\n",
       "\n",
       "    .dataframe tbody tr th {\n",
       "        vertical-align: top;\n",
       "    }\n",
       "\n",
       "    .dataframe thead th {\n",
       "        text-align: right;\n",
       "    }\n",
       "</style>\n",
       "<table border=\"1\" class=\"dataframe\">\n",
       "  <thead>\n",
       "    <tr style=\"text-align: right;\">\n",
       "      <th></th>\n",
       "      <th>drug</th>\n",
       "      <th>matched_drug</th>\n",
       "      <th>score</th>\n",
       "    </tr>\n",
       "  </thead>\n",
       "  <tbody>\n",
       "    <tr>\n",
       "      <th>0</th>\n",
       "      <td>醋酸泼尼松片</td>\n",
       "      <td>曲安西龙片</td>\n",
       "      <td>0.769136</td>\n",
       "    </tr>\n",
       "    <tr>\n",
       "      <th>1</th>\n",
       "      <td>醋酸泼尼松片</td>\n",
       "      <td>醋酸地塞米松片</td>\n",
       "      <td>0.742230</td>\n",
       "    </tr>\n",
       "    <tr>\n",
       "      <th>2</th>\n",
       "      <td>醋酸泼尼松片</td>\n",
       "      <td>地塞米松片</td>\n",
       "      <td>0.655462</td>\n",
       "    </tr>\n",
       "    <tr>\n",
       "      <th>3</th>\n",
       "      <td>三磷酸腺苷二钠片</td>\n",
       "      <td>荣心丸</td>\n",
       "      <td>0.759191</td>\n",
       "    </tr>\n",
       "    <tr>\n",
       "      <th>4</th>\n",
       "      <td>三磷酸腺苷二钠片</td>\n",
       "      <td>三磷酸腺苷二钠注射液</td>\n",
       "      <td>0.739641</td>\n",
       "    </tr>\n",
       "    <tr>\n",
       "      <th>5</th>\n",
       "      <td>三磷酸腺苷二钠片</td>\n",
       "      <td>心荣颗粒</td>\n",
       "      <td>0.677750</td>\n",
       "    </tr>\n",
       "    <tr>\n",
       "      <th>6</th>\n",
       "      <td>利培酮胶囊</td>\n",
       "      <td>富马酸喹硫平片</td>\n",
       "      <td>0.802860</td>\n",
       "    </tr>\n",
       "    <tr>\n",
       "      <th>7</th>\n",
       "      <td>利培酮胶囊</td>\n",
       "      <td>氯氮平片</td>\n",
       "      <td>0.776621</td>\n",
       "    </tr>\n",
       "    <tr>\n",
       "      <th>8</th>\n",
       "      <td>利培酮胶囊</td>\n",
       "      <td>氯氮平口腔崩解片</td>\n",
       "      <td>0.769843</td>\n",
       "    </tr>\n",
       "    <tr>\n",
       "      <th>9</th>\n",
       "      <td>氟哌啶醇片</td>\n",
       "      <td>氢溴酸加兰他敏分散片</td>\n",
       "      <td>0.721227</td>\n",
       "    </tr>\n",
       "    <tr>\n",
       "      <th>10</th>\n",
       "      <td>氟哌啶醇片</td>\n",
       "      <td>氟哌啶醇注射液</td>\n",
       "      <td>0.714181</td>\n",
       "    </tr>\n",
       "    <tr>\n",
       "      <th>11</th>\n",
       "      <td>氟哌啶醇片</td>\n",
       "      <td>奋乃静片</td>\n",
       "      <td>0.693444</td>\n",
       "    </tr>\n",
       "    <tr>\n",
       "      <th>12</th>\n",
       "      <td>维生素B6片</td>\n",
       "      <td>赖氨葡锌片</td>\n",
       "      <td>0.765110</td>\n",
       "    </tr>\n",
       "    <tr>\n",
       "      <th>13</th>\n",
       "      <td>维生素B6片</td>\n",
       "      <td>葡萄糖酸锌片</td>\n",
       "      <td>0.717228</td>\n",
       "    </tr>\n",
       "    <tr>\n",
       "      <th>14</th>\n",
       "      <td>维生素B6片</td>\n",
       "      <td>氧化锌软膏</td>\n",
       "      <td>0.694422</td>\n",
       "    </tr>\n",
       "    <tr>\n",
       "      <th>15</th>\n",
       "      <td>刺五加片</td>\n",
       "      <td>肾康宁片</td>\n",
       "      <td>0.810680</td>\n",
       "    </tr>\n",
       "    <tr>\n",
       "      <th>16</th>\n",
       "      <td>刺五加片</td>\n",
       "      <td>六味地黄胶囊</td>\n",
       "      <td>0.797483</td>\n",
       "    </tr>\n",
       "    <tr>\n",
       "      <th>17</th>\n",
       "      <td>刺五加片</td>\n",
       "      <td>补肾强身片</td>\n",
       "      <td>0.711946</td>\n",
       "    </tr>\n",
       "    <tr>\n",
       "      <th>18</th>\n",
       "      <td>血府逐瘀丸</td>\n",
       "      <td>复方氨基丁酸维E胶囊</td>\n",
       "      <td>0.809391</td>\n",
       "    </tr>\n",
       "    <tr>\n",
       "      <th>19</th>\n",
       "      <td>血府逐瘀丸</td>\n",
       "      <td>微达康颗粒</td>\n",
       "      <td>0.550239</td>\n",
       "    </tr>\n",
       "    <tr>\n",
       "      <th>20</th>\n",
       "      <td>血府逐瘀丸</td>\n",
       "      <td>参地益肾口服液</td>\n",
       "      <td>0.541874</td>\n",
       "    </tr>\n",
       "    <tr>\n",
       "      <th>21</th>\n",
       "      <td>氟尿嘧啶注射液</td>\n",
       "      <td>氟尿嘧啶乳膏</td>\n",
       "      <td>0.754646</td>\n",
       "    </tr>\n",
       "    <tr>\n",
       "      <th>22</th>\n",
       "      <td>氟尿嘧啶注射液</td>\n",
       "      <td>氟尿嘧啶软膏</td>\n",
       "      <td>0.664672</td>\n",
       "    </tr>\n",
       "    <tr>\n",
       "      <th>23</th>\n",
       "      <td>氟尿嘧啶注射液</td>\n",
       "      <td>氟尿嘧啶植入剂</td>\n",
       "      <td>0.654930</td>\n",
       "    </tr>\n",
       "    <tr>\n",
       "      <th>24</th>\n",
       "      <td>头孢氨苄胶囊</td>\n",
       "      <td>氨苄西林胶囊</td>\n",
       "      <td>0.731395</td>\n",
       "    </tr>\n",
       "    <tr>\n",
       "      <th>25</th>\n",
       "      <td>头孢氨苄胶囊</td>\n",
       "      <td>头孢拉定胶囊</td>\n",
       "      <td>0.719983</td>\n",
       "    </tr>\n",
       "    <tr>\n",
       "      <th>26</th>\n",
       "      <td>头孢氨苄胶囊</td>\n",
       "      <td>头孢克洛颗粒</td>\n",
       "      <td>0.692810</td>\n",
       "    </tr>\n",
       "    <tr>\n",
       "      <th>27</th>\n",
       "      <td>阿奇霉素胶囊</td>\n",
       "      <td>阿奇霉素片</td>\n",
       "      <td>0.841083</td>\n",
       "    </tr>\n",
       "    <tr>\n",
       "      <th>28</th>\n",
       "      <td>阿奇霉素胶囊</td>\n",
       "      <td>阿奇霉素分散片</td>\n",
       "      <td>0.838507</td>\n",
       "    </tr>\n",
       "    <tr>\n",
       "      <th>29</th>\n",
       "      <td>阿奇霉素胶囊</td>\n",
       "      <td>诺氟沙星片</td>\n",
       "      <td>0.660843</td>\n",
       "    </tr>\n",
       "  </tbody>\n",
       "</table>\n",
       "</div>"
      ],
      "text/plain": [
       "        drug matched_drug     score\n",
       "0     醋酸泼尼松片        曲安西龙片  0.769136\n",
       "1     醋酸泼尼松片      醋酸地塞米松片  0.742230\n",
       "2     醋酸泼尼松片        地塞米松片  0.655462\n",
       "3   三磷酸腺苷二钠片          荣心丸  0.759191\n",
       "4   三磷酸腺苷二钠片   三磷酸腺苷二钠注射液  0.739641\n",
       "5   三磷酸腺苷二钠片         心荣颗粒  0.677750\n",
       "6      利培酮胶囊      富马酸喹硫平片  0.802860\n",
       "7      利培酮胶囊         氯氮平片  0.776621\n",
       "8      利培酮胶囊     氯氮平口腔崩解片  0.769843\n",
       "9      氟哌啶醇片   氢溴酸加兰他敏分散片  0.721227\n",
       "10     氟哌啶醇片      氟哌啶醇注射液  0.714181\n",
       "11     氟哌啶醇片         奋乃静片  0.693444\n",
       "12    维生素B6片        赖氨葡锌片  0.765110\n",
       "13    维生素B6片       葡萄糖酸锌片  0.717228\n",
       "14    维生素B6片        氧化锌软膏  0.694422\n",
       "15      刺五加片         肾康宁片  0.810680\n",
       "16      刺五加片       六味地黄胶囊  0.797483\n",
       "17      刺五加片        补肾强身片  0.711946\n",
       "18     血府逐瘀丸   复方氨基丁酸维E胶囊  0.809391\n",
       "19     血府逐瘀丸        微达康颗粒  0.550239\n",
       "20     血府逐瘀丸      参地益肾口服液  0.541874\n",
       "21   氟尿嘧啶注射液       氟尿嘧啶乳膏  0.754646\n",
       "22   氟尿嘧啶注射液       氟尿嘧啶软膏  0.664672\n",
       "23   氟尿嘧啶注射液      氟尿嘧啶植入剂  0.654930\n",
       "24    头孢氨苄胶囊       氨苄西林胶囊  0.731395\n",
       "25    头孢氨苄胶囊       头孢拉定胶囊  0.719983\n",
       "26    头孢氨苄胶囊       头孢克洛颗粒  0.692810\n",
       "27    阿奇霉素胶囊        阿奇霉素片  0.841083\n",
       "28    阿奇霉素胶囊      阿奇霉素分散片  0.838507\n",
       "29    阿奇霉素胶囊        诺氟沙星片  0.660843"
      ]
     },
     "execution_count": 92,
     "metadata": {},
     "output_type": "execute_result"
    }
   ],
   "source": [
    "df_match[:30]"
   ]
  },
  {
   "cell_type": "code",
   "execution_count": 94,
   "id": "50b0cef8",
   "metadata": {},
   "outputs": [],
   "source": [
    "from py2neo import Graph \n",
    "session = Graph(\"neo4j://172.16.227.27:7687\", auth=(\"neo4j\", \"123456\"))"
   ]
  },
  {
   "cell_type": "code",
   "execution_count": 95,
   "id": "4edac723",
   "metadata": {},
   "outputs": [],
   "source": [
    "link_template = \"\"\"\n",
    "match (d1:drug {display: \"氟哌啶醇注射液\"})-[r]->(n:disease)<-[]-(d2:drug {display: \"氟哌啶醇片\"})\n",
    "return d1.display as drug_name_1, n.display as link_node_name, labels(n)[0] as link_node_label, d2.display as drug_name_2\n",
    "union\n",
    "match (d1:drug {display: \"氟哌啶醇注射液\"})<-[]-(n:chemical)-[]->(d2:drug {display: \"氟哌啶醇片\"})\n",
    "return d1.display as drug_name_1, n.display as link_node_name, labels(n)[0] as link_node_label, d2.display as drug_name_2\n",
    "\"\"\"\n",
    "\n",
    "result_list = session.run(link_template).data()\n",
    "df_link = pd.DataFrame(result_list)"
   ]
  },
  {
   "cell_type": "code",
   "execution_count": 103,
   "id": "2e477226",
   "metadata": {},
   "outputs": [],
   "source": [
    "stats_dict = {}\n",
    "for index, row in df_link.groupby([\"link_node_label\"])[\"link_node_name\"].count().reset_index().iterrows():\n",
    "    if row[\"link_node_label\"] == \"chemical\":\n",
    "        stats_dict[\"common_chemical_count\"] = row[\"link_node_name\"]\n",
    "    if row[\"link_node_label\"] == \"disease\":\n",
    "        stats_dict[\"common_indication_count\"] = row[\"link_node_name\"]"
   ]
  },
  {
   "cell_type": "code",
   "execution_count": 104,
   "id": "28862137",
   "metadata": {},
   "outputs": [
    {
     "data": {
      "text/plain": [
       "{'common_chemical': 1, 'common_indication': 22}"
      ]
     },
     "execution_count": 104,
     "metadata": {},
     "output_type": "execute_result"
    }
   ],
   "source": [
    "stats_dict"
   ]
  },
  {
   "cell_type": "code",
   "execution_count": 115,
   "id": "fb9d6284",
   "metadata": {},
   "outputs": [],
   "source": [
    "indication_link_list = []\n",
    "for index, row in df_link[df_link[\"link_node_label\"] == \"disease\"].iterrows():\n",
    "    indication_link_list.append(\"{}-[适应症]->{}<-[适应症]-{}\".format(\n",
    "        row[\"drug_name_1\"], row[\"link_node_name\"], row[\"drug_name_2\"]\n",
    "    ))"
   ]
  },
  {
   "cell_type": "code",
   "execution_count": 113,
   "id": "f1e1101c",
   "metadata": {},
   "outputs": [],
   "source": [
    "chemical_link_list = []\n",
    "for index, row in df_link[df_link[\"link_node_label\"] == \"chemical\"].iterrows():\n",
    "    chemical_link_list.append(\"{}-[化合物]->{}<-[化合物]-{}\".format(\n",
    "        row[\"drug_name_1\"], row[\"link_node_name\"], row[\"drug_name_2\"]\n",
    "    ))"
   ]
  },
  {
   "cell_type": "code",
   "execution_count": 114,
   "id": "3ddef340",
   "metadata": {},
   "outputs": [
    {
     "data": {
      "text/plain": [
       "['氟哌啶醇注射液-[化合物]->haloperidol<-[化合物]-氟哌啶醇片']"
      ]
     },
     "execution_count": 114,
     "metadata": {},
     "output_type": "execute_result"
    }
   ],
   "source": [
    "chemical_link_list"
   ]
  },
  {
   "cell_type": "code",
   "execution_count": 124,
   "id": "bc49368e",
   "metadata": {},
   "outputs": [],
   "source": [
    "link_template = \"\"\"\n",
    "match (d1:drug {{display: \"{d1}\"}})-[]->(n:disease)<-[]-(d2:drug {{display: \"{d2}\"}})\n",
    "return d1.display as drug_name_1, n.display as link_node_name, labels(n)[0] as link_node_label, d2.display as drug_name_2\n",
    "union\n",
    "match (d1:drug {{display: \"{d1}\"}})<-[]-(n:chemical)-[]->(d2:drug {{display: \"{d2}\"}})\n",
    "return d1.display as drug_name_1, n.display as link_node_name, labels(n)[0] as link_node_label, d2.display as drug_name_2\n",
    "\"\"\"\n",
    "\n",
    "common_chemical_count_list = []\n",
    "common_indication_count_list = []\n",
    "indication_links = []\n",
    "chemical_links = []\n",
    "\n",
    "for index, row in df_match.iterrows():\n",
    "    link_query = link_template.format(d1=row[\"drug\"], d2=row[\"matched_drug\"])\n",
    "    result_list = session.run(link_query).data()\n",
    "    df_link = pd.DataFrame(result_list)\n",
    "    chemical_count = 0\n",
    "    indication_count = 0\n",
    "    try:\n",
    "        for index, row in df_link.groupby([\"link_node_label\"])[\"link_node_name\"].count().reset_index().iterrows():\n",
    "            if row[\"link_node_label\"] == \"chemical\":\n",
    "                chemical_count = row[\"link_node_name\"]\n",
    "            if row[\"link_node_label\"] == \"disease\":\n",
    "                indication_count = row[\"link_node_name\"]\n",
    "    except:\n",
    "        pass\n",
    "    \n",
    "    common_chemical_count_list.append(chemical_count)\n",
    "    common_indication_count_list.append(indication_count)\n",
    "            \n",
    "    indication_link_list = []\n",
    "    try:\n",
    "        for index, row in df_link[df_link[\"link_node_label\"] == \"disease\"].iterrows():\n",
    "            indication_link_list.append(\"{}-[适应症]->{}<-[适应症]-{}\".format(\n",
    "                row[\"drug_name_1\"], row[\"link_node_name\"], row[\"drug_name_2\"]\n",
    "            ))\n",
    "    except:\n",
    "        pass\n",
    "    indication_links.append(\"\\n\".join(indication_link_list))\n",
    "        \n",
    "    chemical_link_list = []\n",
    "    try:\n",
    "        for index, row in df_link[df_link[\"link_node_label\"] == \"chemical\"].iterrows():\n",
    "            chemical_link_list.append(\"{}-[化合物]->{}<-[化合物]-{}\".format(\n",
    "                row[\"drug_name_1\"], row[\"link_node_name\"], row[\"drug_name_2\"]\n",
    "            ))\n",
    "    except:\n",
    "        pass\n",
    "    chemical_links.append(\"\\n\".join(chemical_link_list))"
   ]
  },
  {
   "cell_type": "code",
   "execution_count": 128,
   "id": "c2b463c3",
   "metadata": {},
   "outputs": [],
   "source": [
    "df_match = df_match.assign(common_chemical_count=common_chemical_count_list)\n",
    "df_match = df_match.assign(common_indication_count=common_indication_count_list)\n",
    "chemical_links = [x.replace(\"\\n\", \" | \") for x in chemical_links]\n",
    "indication_links = [x.replace(\"\\n\", \" | \") for x in indication_links]\n",
    "df_match = df_match.assign(chemical_link=chemical_links)\n",
    "df_match = df_match.assign(indication_link=indication_links)"
   ]
  },
  {
   "cell_type": "code",
   "execution_count": 129,
   "id": "caef6480",
   "metadata": {},
   "outputs": [],
   "source": [
    "df_match.to_csv(\"similar_drug_and_link.csv\", index=False)"
   ]
  },
  {
   "cell_type": "code",
   "execution_count": null,
   "id": "a8205414",
   "metadata": {},
   "outputs": [],
   "source": []
  }
 ],
 "metadata": {
  "kernelspec": {
   "display_name": "Python 3",
   "language": "python",
   "name": "python3"
  },
  "language_info": {
   "codemirror_mode": {
    "name": "ipython",
    "version": 3
   },
   "file_extension": ".py",
   "mimetype": "text/x-python",
   "name": "python",
   "nbconvert_exporter": "python",
   "pygments_lexer": "ipython3",
   "version": "3.6.13"
  }
 },
 "nbformat": 4,
 "nbformat_minor": 5
}
